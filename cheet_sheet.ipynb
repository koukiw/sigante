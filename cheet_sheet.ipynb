{
 "cells": [
  {
   "cell_type": "markdown",
   "metadata": {
    "id": "1bvuMMME339V"
   },
   "source": [
    "ライブラリをインポートからデータ読み込み"
   ]
  },
  {
   "cell_type": "code",
   "execution_count": 2,
   "metadata": {
    "id": "ynNs7jlJ3nPA",
    "tags": []
   },
   "outputs": [],
   "source": [
    "import pandas as pd\n",
    "import numpy as np\n",
    "import matplotlib.pyplot as plt\n",
    "import matplotlib as mpl\n",
    "import seaborn as sns\n",
    "from sklearn.ensemble import RandomForestRegressor\n",
    "from sklearn.metrics import mean_squared_error\n",
    "from sklearn.metrics import mean_absolute_error\n",
    "from sklearn.metrics import mean_squared_error\n",
    "from sklearn.metrics import r2_score\n",
    "from sklearn.model_selection import KFold\n",
    "from sklearn.metrics import mean_squared_error as MSE\n",
    "from sklearn.linear_model import LinearRegression as LR\n",
    "from sklearn.ensemble import RandomForestRegressor as RF\n",
    "import lightgbm as lgb\n"
   ]
  },
  {
   "cell_type": "markdown",
   "metadata": {
    "id": "UYoQJndO37C4"
   },
   "source": [
    "ラベルエンコーディング(入力dfで全カラムがラベルエンコーディング)"
   ]
  },
  {
   "cell_type": "code",
   "execution_count": null,
   "metadata": {
    "id": "2Qx4-sM-3p6P"
   },
   "outputs": [],
   "source": [
    "from sklearn import preprocessing\n",
    "\n",
    "for column in df.columns:\n",
    "#     print(titanic[column].shape)\n",
    "    le = preprocessing.LabelEncoder()\n",
    "    le.fit(df[column])\n",
    "    df[column] = le.transform(df[column])"
   ]
  },
  {
   "cell_type": "markdown",
   "metadata": {
    "id": "2jqrAcwU39MC"
   },
   "source": [
    "ダミー変数化(入力df)"
   ]
  },
  {
   "cell_type": "code",
   "execution_count": null,
   "metadata": {
    "id": "Yudzq1Eq3-0d"
   },
   "outputs": [],
   "source": [
    "# 入力されたdfのうち文字列のみダミー変数に変換\n",
    "df1=pd.get_dummies(df)"
   ]
  },
  {
   "cell_type": "markdown",
   "metadata": {
    "id": "NH8khEVH4AIr"
   },
   "source": [
    "統計量出力"
   ]
  },
  {
   "cell_type": "markdown",
   "metadata": {
    "id": "Av-dmlLV4Ce4"
   },
   "source": [
    "役に立つデータフレームの操作"
   ]
  },
  {
   "cell_type": "code",
   "execution_count": null,
   "metadata": {
    "id": "b_WiZomH4DxL"
   },
   "outputs": [],
   "source": [
    "#あるカラムを削除\n",
    "df=df.drop('id',axis=1)\n",
    "#あるカラムの欠損値を削除\n",
    "df.dropna(subset=['age'])\n",
    "#あるカラムだけを抽出\n",
    "df[\"Customer_ID\"]\n",
    "#あるカラムの条件を満たすものだけを抽出\n",
    "df[df[\"Customer_ID\"] == \"C01\"]\n",
    "#あるカラムの条件を満たすものだけを削除\n",
    "df[df[\"Customer_ID\"] == \"C01\"]\n",
    "#縦にデータフレーム同士を結合\n",
    "gousei = X1.append(X2)\n",
    "#データフレームの合成(sort=trueで列ラベルの整理とかせず強引に合成，falseにするとカラムが同じ列になるように自動整理)\n",
    "gousei= pd.concat([X1,X2],sort=True).reset_index(drop=True)#引数\n",
    "#データフレームのカラムごとの変数型を確認\n",
    "df.dtypes\n",
    "#列で同じ要素ごとにグループ分けして処理を行う\n",
    "df.groupby(列名).apply(行いたい処理)"
   ]
  },
  {
   "cell_type": "markdown",
   "metadata": {
    "id": "1YA5u1G74Fvg"
   },
   "source": [
    "データの切り分け"
   ]
  },
  {
   "cell_type": "code",
   "execution_count": null,
   "metadata": {
    "id": "0gIq2FVs4UJd"
   },
   "outputs": [],
   "source": [
    "from sklearn.model_selection import train_test_split\n",
    "# 学習データとテストデータに分ける\n",
    "X_train, X_test, y_train, y_test = train_test_split(df_X, y,\n",
    "                                                    test_size=0.2,\n",
    "                                                    random_state=0,\n",
    "                                                    stratify=y)\n"
   ]
  },
  {
   "cell_type": "markdown",
   "metadata": {
    "id": "xvsrBOGA4VXx"
   },
   "source": [
    "データフレームのCSV出力"
   ]
  },
  {
   "cell_type": "code",
   "execution_count": null,
   "metadata": {
    "id": "jZj0v17b4WMs"
   },
   "outputs": [],
   "source": [
    "# dfをcsv出力　indexをTrueにしたら0からインデックスが降られる、headerはカラム名が一番上に追加される\n",
    "df.to_csv(\"output.csv\", index = False, header=False)"
   ]
  },
  {
   "cell_type": "markdown",
   "metadata": {
    "id": "o0eZLC4b4Xhg"
   },
   "source": [
    "ランダムフォレストの学習~モデルの評価"
   ]
  },
  {
   "cell_type": "code",
   "execution_count": null,
   "metadata": {
    "id": "4lYhPrF74Yib"
   },
   "outputs": [],
   "source": [
    "# クラス作成とモデルのフィット\n",
    "rfr = RandomForestRegressor()\n",
    "rfr.fit(X_train,Y_train)\n",
    "#平均絶対誤差\n",
    "mean_absolute_error(y_true, y_pred)\n",
    "#平均二乗誤差 (MSE)\n",
    "mean_squared_error(y_true, y_pred)\n",
    "#二乗平均平方根誤差 (RMSE)\n",
    "np.sqrt(mean_squared_error(y_true, y_pred))\n",
    "#決定係数 (R2)\n",
    "r2_score(y_true, y_pred)"
   ]
  },
  {
   "cell_type": "markdown",
   "metadata": {
    "id": "thI_DFPg4biM"
   },
   "source": [
    "LightGBMを使うとき"
   ]
  },
  {
   "cell_type": "markdown",
   "metadata": {
    "id": "bR_izXSc4eY7"
   },
   "source": [
    "モデル作成（入力、X_train,y_train）"
   ]
  },
  {
   "cell_type": "code",
   "execution_count": null,
   "metadata": {
    "id": "btxhDK9f4ZrU"
   },
   "outputs": [],
   "source": [
    "model = lgb.LGBMRegressor() # モデルのインスタンスの作成\n",
    "model.fit(X_train, y_train) # モデルの学習\n",
    "\n",
    "# テストデータの予測\n",
    "y_pred = model.predict(X_test)\n"
   ]
  },
  {
   "cell_type": "markdown",
   "metadata": {
    "id": "xq9K9wEs4g9R"
   },
   "source": [
    "同上"
   ]
  },
  {
   "cell_type": "code",
   "execution_count": null,
   "metadata": {
    "colab": {
     "base_uri": "https://localhost:8080/",
     "height": 240
    },
    "executionInfo": {
     "elapsed": 609,
     "status": "error",
     "timestamp": 1643628342554,
     "user": {
      "displayName": "若林功樹",
      "photoUrl": "https://lh3.googleusercontent.com/a/default-user=s64",
      "userId": "05902648550000917509"
     },
     "user_tz": -540
    },
    "id": "RaPuNEGp4ffD",
    "outputId": "cd17ef59-7adb-44ec-b976-ea9f8269073f"
   },
   "outputs": [
    {
     "ename": "NameError",
     "evalue": "ignored",
     "output_type": "error",
     "traceback": [
      "\u001b[0;31m---------------------------------------------------------------------------\u001b[0m",
      "\u001b[0;31mNameError\u001b[0m                                 Traceback (most recent call last)",
      "\u001b[0;32m<ipython-input-5-1606e998a691>\u001b[0m in \u001b[0;36m<module>\u001b[0;34m()\u001b[0m\n\u001b[0;32m----> 1\u001b[0;31m \u001b[0mlgb_train\u001b[0m \u001b[0;34m=\u001b[0m \u001b[0mlgb\u001b[0m\u001b[0;34m.\u001b[0m\u001b[0mDataset\u001b[0m\u001b[0;34m(\u001b[0m\u001b[0mX_train\u001b[0m\u001b[0;34m,\u001b[0m \u001b[0my_train\u001b[0m\u001b[0;34m)\u001b[0m\u001b[0;34m\u001b[0m\u001b[0;34m\u001b[0m\u001b[0m\n\u001b[0m\u001b[1;32m      2\u001b[0m \u001b[0mlgb_eval\u001b[0m \u001b[0;34m=\u001b[0m \u001b[0mlgb\u001b[0m\u001b[0;34m.\u001b[0m\u001b[0mDataset\u001b[0m\u001b[0;34m(\u001b[0m\u001b[0mX_test\u001b[0m\u001b[0;34m,\u001b[0m \u001b[0my_test\u001b[0m\u001b[0;34m,\u001b[0m \u001b[0mreference\u001b[0m\u001b[0;34m=\u001b[0m\u001b[0mlgb_train\u001b[0m\u001b[0;34m)\u001b[0m\u001b[0;34m\u001b[0m\u001b[0;34m\u001b[0m\u001b[0m\n\u001b[1;32m      3\u001b[0m \u001b[0;34m\u001b[0m\u001b[0m\n\u001b[1;32m      4\u001b[0m \u001b[0;31m# LightGBM parameters\u001b[0m\u001b[0;34m\u001b[0m\u001b[0;34m\u001b[0m\u001b[0;34m\u001b[0m\u001b[0m\n\u001b[1;32m      5\u001b[0m params = {\n",
      "\u001b[0;31mNameError\u001b[0m: name 'X_train' is not defined"
     ]
    }
   ],
   "source": [
    "lgb_train = lgb.Dataset(X_train, y_train)\n",
    "lgb_eval = lgb.Dataset(X_test, y_test, reference=lgb_train) \n",
    "\n",
    "# LightGBM parameters\n",
    "params = {\n",
    "        'task': 'train',\n",
    "        'boosting_type': 'gbdt',\n",
    "        'objective': 'regression', # 目的 : 回帰  \n",
    "        'metric': {'rmse'}, # 評価指標 : rsme(平均二乗誤差の平方根) \n",
    "}\n",
    "\n",
    "# モデルの学習\n",
    "model = lgb.train(params,\n",
    "                  train_set=lgb_train, # トレーニングデータの指定\n",
    "                  valid_sets=lgb_eval, # 検証データの指定\n",
    "                  )\n",
    "\n",
    "# テストデータの予測\n",
    "y_pred = model.predict(X_test)"
   ]
  },
  {
   "cell_type": "markdown",
   "metadata": {
    "id": "yqZYna4A4juB"
   },
   "source": [
    "図にしたいとき"
   ]
  },
  {
   "cell_type": "code",
   "execution_count": null,
   "metadata": {
    "id": "UMUARtfc4idz"
   },
   "outputs": [],
   "source": [
    "df_pred = pd.DataFrame({'y':y_test,'y_pred':y_pred})\n",
    "display(df_pred)\n",
    "\n",
    "# 散布図を描画(真値 vs 予測値)\n",
    "plt.plot(y_test, y_test, color = 'red', label = 'x=y') # 直線y = x (真値と予測値が同じ場合は直線状に点がプロットされる)\n",
    "plt.scatter(y_test, y_pred) # 散布図のプロット\n",
    "plt.xlabel('y') # x軸ラベル\n",
    "plt.ylabel('y_test') # y軸ラベル\n",
    "plt.title('y vs y_pred') # グラフタイトル"
   ]
  },
  {
   "cell_type": "markdown",
   "metadata": {
    "id": "3urzcW2A4lhi"
   },
   "source": [
    "statmodelの使い方（入力X_train,y_trainどちらもデータフレーム）"
   ]
  },
  {
   "cell_type": "code",
   "execution_count": null,
   "metadata": {
    "id": "HxcltH4_4mpD"
   },
   "outputs": [],
   "source": [
    "model = sm.OLS(y_train, sm.add_constant(X_train))\n",
    "res = model.fit()\n",
    "print(res.summary())"
   ]
  },
  {
   "cell_type": "markdown",
   "metadata": {
    "id": "c1GzILjD4nt6"
   },
   "source": [
    "Seabornの使い方"
   ]
  },
  {
   "cell_type": "markdown",
   "metadata": {
    "id": "_wqjY1ij4pqW"
   },
   "source": [
    "ヒストグラム作成"
   ]
  },
  {
   "cell_type": "code",
   "execution_count": null,
   "metadata": {
    "id": "5QANlg7Z4orD"
   },
   "outputs": [],
   "source": [
    "import seaborn as sns\n",
    "sns.distplot(df[\"a\"])"
   ]
  },
  {
   "cell_type": "markdown",
   "metadata": {
    "id": "WGT0-Npu4rHS"
   },
   "source": [
    "散布図作成"
   ]
  },
  {
   "cell_type": "code",
   "execution_count": null,
   "metadata": {
    "id": "J6bsaG4P4sLJ"
   },
   "outputs": [],
   "source": [
    "sns.scatter(data=df,x='age',y='salary')"
   ]
  },
  {
   "cell_type": "markdown",
   "metadata": {
    "id": "zapd0sIUBEay"
   },
   "source": [
    "k-分割交差検証"
   ]
  },
  {
   "cell_type": "code",
   "execution_count": null,
   "metadata": {
    "id": "1957RwyoBH0d"
   },
   "outputs": [],
   "source": [
    "#ライブラリのインポート\n",
    "from sklearn.model_selection import KFold\n",
    "# データ\n",
    "kf=KFold(n_splits=\"分割数\",shuffle=True)\n",
    "scores=[]\n",
    "for train_id,test_id in kf.split(X):#Xは分けたいデータが入る\n",
    "    x=X[train_id]#Xに説明変数，Yに目的変数が入っている場合\n",
    "    y=Y[train_id]\n",
    "    #モデルの作成\n",
    "    clf=DecisionTreeClassifier(max_depth=3,random_state=42)\n",
    "    clf.fit(x,y)\n",
    "    pred_y=clf.predict(X[test_id])\n",
    "    score=accuracy_score(Y[test_id],pred_y)\n",
    "    scores.append(score)\n",
    "    \n",
    "scores=np.array(scores)\n",
    "print(scores)\n",
    "print(scores.mean())"
   ]
  },
  {
   "cell_type": "markdown",
   "metadata": {
    "id": "CIxvk_AylXF9"
   },
   "source": [
    "signateよりグラフの描画"
   ]
  },
  {
   "cell_type": "code",
   "execution_count": null,
   "metadata": {
    "id": "qAItrB06lacI"
   },
   "outputs": [],
   "source": [
    "import pandas as pd\n",
    "import matplotlib\n",
    "import matplotlib.pyplot as plt\n",
    "\n",
    "# stock_priceの読み込み\n",
    "stock_price = pd.read_csv('stock_price.csv')\n",
    "# stock_priceのインデックスを日付型のデータに指定\n",
    "stock_price.loc[:, 'datetime'] = pd.to_datetime(stock_price['EndOfDayQuote Date'])\n",
    "stock_price.set_index('datetime', inplace=True)\n",
    "\n",
    "# 特定の銘柄コードに絞り込み\n",
    "code = 9984\n",
    "price_data = stock_price[stock_price['Local Code'] == code]\n",
    "# 2020年6月までの値を表示\n",
    "price_data = price_data[:'2020-06']\n",
    "\n",
    "# 5日、25日、75日の価格変化率を算出\n",
    "periods = [5, 25, 75]\n",
    "cols = []\n",
    "for period in periods:\n",
    "    col = '{} windows rate of return'.format(period)\n",
    "    price_data[col] = \\\n",
    "        price_data['EndOfDayQuote ExchangeOfficialClose'].pct_change(period) * 100\n",
    "    cols.append(col)\n",
    "    \n",
    "# プロット\n",
    "fig, ax = plt.subplots(figsize=(10, 4))\n",
    "for col in cols:\n",
    "    ax.plot(price_data[col], label=col)\n",
    "ax.set_ylabel('rate of return (%)')\n",
    "ax.set_xlabel('datetime')\n",
    "ax.grid(True)\n",
    "ax.legend()\n",
    "plt.show()"
   ]
  },
  {
   "cell_type": "markdown",
   "metadata": {
    "id": "9D4Ws0xljbk1"
   },
   "source": [
    "# 新しいセクション"
   ]
  }
 ],
 "metadata": {
  "colab": {
   "authorship_tag": "ABX9TyMmQjKEF2uG4FKdZLlrgHdZ",
   "collapsed_sections": [],
   "name": "cheet_sheet.ipynb",
   "provenance": []
  },
  "kernelspec": {
   "display_name": "Python 3 (ipykernel)",
   "language": "python",
   "name": "python3"
  },
  "language_info": {
   "codemirror_mode": {
    "name": "ipython",
    "version": 3
   },
   "file_extension": ".py",
   "mimetype": "text/x-python",
   "name": "python",
   "nbconvert_exporter": "python",
   "pygments_lexer": "ipython3",
   "version": "3.9.7"
  }
 },
 "nbformat": 4,
 "nbformat_minor": 4
}
