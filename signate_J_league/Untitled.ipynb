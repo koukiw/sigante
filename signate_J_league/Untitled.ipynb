{
 "cells": [
  {
   "cell_type": "code",
   "execution_count": 1,
   "id": "5abcdc6d-a361-457a-a68d-22599f31e64f",
   "metadata": {},
   "outputs": [],
   "source": [
    "N = \"aaa\""
   ]
  },
  {
   "cell_type": "code",
   "execution_count": 3,
   "id": "00e456ef-70cc-402e-a669-97326f50abd9",
   "metadata": {},
   "outputs": [
    {
     "name": "stdout",
     "output_type": "stream",
     "text": [
      "AGC00aaa\n"
     ]
    }
   ],
   "source": [
    "print(\"AGC\" + str(N).zfill(5))"
   ]
  },
  {
   "cell_type": "code",
   "execution_count": 5,
   "id": "3892f0b6-4870-48c9-aced-8400f669f540",
   "metadata": {},
   "outputs": [
    {
     "name": "stdout",
     "output_type": "stream",
     "text": [
      "a is odd\n"
     ]
    }
   ],
   "source": [
    "a = 9\n",
    "\n",
    "if a > 0 and a % 2 == 1:\n",
    "    print(\"a is odd\")\n",
    "else:\n",
    "    print(\"a is even\")"
   ]
  },
  {
   "cell_type": "code",
   "execution_count": 6,
   "id": "8e0566ee-b33f-4d46-ab44-20124364fb73",
   "metadata": {},
   "outputs": [
    {
     "name": "stdout",
     "output_type": "stream",
     "text": [
      "9は\n"
     ]
    }
   ],
   "source": [
    "print(f\"{a}は\")"
   ]
  },
  {
   "cell_type": "code",
   "execution_count": 7,
   "id": "121c978a-aa58-4507-a205-6e3fee1b32c5",
   "metadata": {},
   "outputs": [
    {
     "name": "stdout",
     "output_type": "stream",
     "text": [
      "   46\n"
     ]
    }
   ],
   "source": [
    "#スペース埋め(5桁)\n",
    "print('{0: 5d}'.format(46))"
   ]
  },
  {
   "cell_type": "code",
   "execution_count": 10,
   "id": "5575bd83-a99d-4a54-acfa-ecddadbe9f9b",
   "metadata": {},
   "outputs": [
    {
     "name": "stdout",
     "output_type": "stream",
     "text": [
      "0046\n",
      "00046\n"
     ]
    }
   ],
   "source": [
    "#0埋め(4桁)\"\n",
    "print('{0:04d}'.format(46))\n",
    "#0埋め(5桁)\"\n",
    "print('{0:05d}'.format(46))"
   ]
  },
  {
   "cell_type": "code",
   "execution_count": 13,
   "id": "785487c7-2902-447d-bd5f-9fcf08e3ebba",
   "metadata": {},
   "outputs": [
    {
     "name": "stdout",
     "output_type": "stream",
     "text": [
      "<class 'str'>\n",
      "3\n",
      "['6', '5', '3', '2']\n"
     ]
    }
   ],
   "source": [
    "a = \"2356\"\n",
    "print(type(a))\n",
    "print(a[1])\n",
    "a = list(a[::-1])\n",
    "print(a)"
   ]
  },
  {
   "cell_type": "code",
   "execution_count": 15,
   "id": "bba6c7b6-1f52-4745-a50f-439107a85575",
   "metadata": {},
   "outputs": [
    {
     "name": "stdout",
     "output_type": "stream",
     "text": [
      "りんご\n",
      "ん\n"
     ]
    }
   ],
   "source": [
    "a = \"りんご\"\n",
    "print(a)\n",
    "print(a[1])"
   ]
  },
  {
   "cell_type": "code",
   "execution_count": null,
   "id": "74b602b9-2513-4423-a851-7f673e513db7",
   "metadata": {},
   "outputs": [],
   "source": []
  }
 ],
 "metadata": {
  "kernelspec": {
   "display_name": "Python 3 (ipykernel)",
   "language": "python",
   "name": "python3"
  },
  "language_info": {
   "codemirror_mode": {
    "name": "ipython",
    "version": 3
   },
   "file_extension": ".py",
   "mimetype": "text/x-python",
   "name": "python",
   "nbconvert_exporter": "python",
   "pygments_lexer": "ipython3",
   "version": "3.9.7"
  }
 },
 "nbformat": 4,
 "nbformat_minor": 5
}
