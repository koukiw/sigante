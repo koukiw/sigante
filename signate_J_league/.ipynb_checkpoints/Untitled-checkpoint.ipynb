{
 "cells": [
  {
   "cell_type": "code",
   "execution_count": 1,
   "id": "5abcdc6d-a361-457a-a68d-22599f31e64f",
   "metadata": {},
   "outputs": [],
   "source": [
    "N = \"aaa\""
   ]
  },
  {
   "cell_type": "code",
   "execution_count": 3,
   "id": "00e456ef-70cc-402e-a669-97326f50abd9",
   "metadata": {},
   "outputs": [
    {
     "name": "stdout",
     "output_type": "stream",
     "text": [
      "AGC00aaa\n"
     ]
    }
   ],
   "source": [
    "print(\"AGC\" + str(N).zfill(5))"
   ]
  },
  {
   "cell_type": "code",
   "execution_count": 5,
   "id": "3892f0b6-4870-48c9-aced-8400f669f540",
   "metadata": {},
   "outputs": [
    {
     "name": "stdout",
     "output_type": "stream",
     "text": [
      "a is odd\n"
     ]
    }
   ],
   "source": [
    "a = 9\n",
    "\n",
    "if a > 0 and a % 2 == 1:\n",
    "    print(\"a is odd\")\n",
    "else:\n",
    "    print(\"a is even\")"
   ]
  },
  {
   "cell_type": "code",
   "execution_count": null,
   "id": "8e0566ee-b33f-4d46-ab44-20124364fb73",
   "metadata": {},
   "outputs": [],
   "source": [
    "print(f\"{a}は\")"
   ]
  }
 ],
 "metadata": {
  "kernelspec": {
   "display_name": "Python 3 (ipykernel)",
   "language": "python",
   "name": "python3"
  },
  "language_info": {
   "codemirror_mode": {
    "name": "ipython",
    "version": 3
   },
   "file_extension": ".py",
   "mimetype": "text/x-python",
   "name": "python",
   "nbconvert_exporter": "python",
   "pygments_lexer": "ipython3",
   "version": "3.9.7"
  }
 },
 "nbformat": 4,
 "nbformat_minor": 5
}
