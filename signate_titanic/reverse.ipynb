{
 "cells": [
  {
   "cell_type": "code",
   "execution_count": 32,
   "id": "805dfe46-271a-406e-80d1-64e44de1c982",
   "metadata": {},
   "outputs": [],
   "source": [
    "a = [2,3,4,5]"
   ]
  },
  {
   "cell_type": "code",
   "execution_count": 4,
   "id": "ac666f0d-82cd-4e2b-a224-56df6375a65f",
   "metadata": {},
   "outputs": [],
   "source": [
    "def reverse(list):\n",
    "    return list[::-1]"
   ]
  },
  {
   "cell_type": "code",
   "execution_count": 6,
   "id": "b5973ace-974d-41ca-b925-33cb9e17c115",
   "metadata": {},
   "outputs": [
    {
     "data": {
      "text/plain": [
       "[3, 2, 1]"
      ]
     },
     "execution_count": 6,
     "metadata": {},
     "output_type": "execute_result"
    }
   ],
   "source": [
    "reverse([1,2,3])"
   ]
  },
  {
   "cell_type": "code",
   "execution_count": 5,
   "id": "4f6eec50-fe30-4d44-ae6e-1c36dfcd7d61",
   "metadata": {},
   "outputs": [],
   "source": [
    "def reverse(list):\n",
    "    answer = []\n",
    "    n = len(list)\n",
    "    for i in range(1,n+1):\n",
    "        answer.append(list[-i])\n",
    "    return answer"
   ]
  },
  {
   "cell_type": "code",
   "execution_count": 6,
   "id": "1034ae34-97d4-4cc8-8290-81d51e820e08",
   "metadata": {},
   "outputs": [
    {
     "data": {
      "text/plain": [
       "['a', 2, 1, 1]"
      ]
     },
     "execution_count": 6,
     "metadata": {},
     "output_type": "execute_result"
    }
   ],
   "source": [
    "\n",
    "reverse(a)"
   ]
  },
  {
   "cell_type": "code",
   "execution_count": 2,
   "id": "2d4fa05e-01f2-496c-bdd2-8ebc3cdfc1df",
   "metadata": {},
   "outputs": [],
   "source": [
    "a = [1,1,2,\"a\"]"
   ]
  }
 ],
 "metadata": {
  "kernelspec": {
   "display_name": "Python 3 (ipykernel)",
   "language": "python",
   "name": "python3"
  },
  "language_info": {
   "codemirror_mode": {
    "name": "ipython",
    "version": 3
   },
   "file_extension": ".py",
   "mimetype": "text/x-python",
   "name": "python",
   "nbconvert_exporter": "python",
   "pygments_lexer": "ipython3",
   "version": "3.9.7"
  }
 },
 "nbformat": 4,
 "nbformat_minor": 5
}
