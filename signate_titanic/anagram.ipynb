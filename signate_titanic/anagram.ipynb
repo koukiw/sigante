{
 "cells": [
  {
   "cell_type": "code",
   "execution_count": null,
   "id": "3b23aa06-7578-49d4-9010-29a8571e92fd",
   "metadata": {},
   "outputs": [],
   "source": [
    " is_anagram('abc', 'bca')"
   ]
  },
  {
   "cell_type": "code",
   "execution_count": 1,
   "id": "958a5e70-1c24-4d90-a928-421df81ef6d4",
   "metadata": {},
   "outputs": [],
   "source": [
    "s = \"abc\""
   ]
  },
  {
   "cell_type": "code",
   "execution_count": 4,
   "id": "636d0054-f8cf-4fa6-89aa-da12aa28396c",
   "metadata": {},
   "outputs": [],
   "source": [
    "import collections"
   ]
  },
  {
   "cell_type": "code",
   "execution_count": 6,
   "id": "1df71476-edc2-481f-b8bf-896fc559c133",
   "metadata": {},
   "outputs": [
    {
     "data": {
      "text/plain": [
       "Counter({'a': 1, 'b': 1, 'c': 1})"
      ]
     },
     "execution_count": 6,
     "metadata": {},
     "output_type": "execute_result"
    }
   ],
   "source": [
    "collections.Counter(s)"
   ]
  },
  {
   "cell_type": "code",
   "execution_count": 3,
   "id": "ae95ba48-150c-41d7-a839-e83cc071b686",
   "metadata": {},
   "outputs": [
    {
     "ename": "TypeError",
     "evalue": "count() takes at least 1 argument (0 given)",
     "output_type": "error",
     "traceback": [
      "\u001b[0;31m---------------------------------------------------------------------------\u001b[0m",
      "\u001b[0;31mTypeError\u001b[0m                                 Traceback (most recent call last)",
      "\u001b[0;32m/var/folders/m3/07wc23_96wz9gkkdjrz3n_dw0000gn/T/ipykernel_7709/2214828068.py\u001b[0m in \u001b[0;36m<module>\u001b[0;34m\u001b[0m\n\u001b[0;32m----> 1\u001b[0;31m \u001b[0ms\u001b[0m\u001b[0;34m.\u001b[0m\u001b[0mcount\u001b[0m\u001b[0;34m(\u001b[0m\u001b[0;34m)\u001b[0m\u001b[0;34m\u001b[0m\u001b[0;34m\u001b[0m\u001b[0m\n\u001b[0m",
      "\u001b[0;31mTypeError\u001b[0m: count() takes at least 1 argument (0 given)"
     ]
    }
   ],
   "source": [
    "s.count()"
   ]
  },
  {
   "cell_type": "code",
   "execution_count": 3,
   "id": "1d7dbb52-482a-4d9f-9888-4200bed00947",
   "metadata": {},
   "outputs": [],
   "source": [
    "s= \"bc\"\n",
    "m= \"abc\""
   ]
  },
  {
   "cell_type": "code",
   "execution_count": 4,
   "id": "4f7370f4-8eb8-4513-9501-869deb05cd73",
   "metadata": {},
   "outputs": [],
   "source": [
    "from collections import Counter\n",
    "def is_anagram(a,b):\n",
    "    a_n = Counter(a)\n",
    "    b_n =Counter(b)\n",
    "    if a_n ==b_n:\n",
    "        return True\n",
    "    else:\n",
    "        return False"
   ]
  },
  {
   "cell_type": "code",
   "execution_count": 5,
   "id": "ada1b9c9-2bc5-49b9-a4d5-12a9f1e08313",
   "metadata": {},
   "outputs": [
    {
     "data": {
      "text/plain": [
       "False"
      ]
     },
     "execution_count": 5,
     "metadata": {},
     "output_type": "execute_result"
    }
   ],
   "source": [
    "is_anagram(s,m)"
   ]
  },
  {
   "cell_type": "code",
   "execution_count": null,
   "id": "0e4a518a-0887-4c85-94ed-8dbd4788779e",
   "metadata": {},
   "outputs": [],
   "source": []
  }
 ],
 "metadata": {
  "kernelspec": {
   "display_name": "Python 3 (ipykernel)",
   "language": "python",
   "name": "python3"
  },
  "language_info": {
   "codemirror_mode": {
    "name": "ipython",
    "version": 3
   },
   "file_extension": ".py",
   "mimetype": "text/x-python",
   "name": "python",
   "nbconvert_exporter": "python",
   "pygments_lexer": "ipython3",
   "version": "3.9.7"
  }
 },
 "nbformat": 4,
 "nbformat_minor": 5
}
