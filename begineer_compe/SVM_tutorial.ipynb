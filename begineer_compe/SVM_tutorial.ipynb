{
 "cells": [
  {
   "cell_type": "code",
   "execution_count": 1,
   "id": "10ada58c-b4e8-4960-b2e8-3c959359b913",
   "metadata": {},
   "outputs": [],
   "source": [
    "from sklearn import datasets\n",
    "import numpy as np\n",
    "import matplotlib.pyplot as plt\n",
    "from sklearn.svm import SVC\n",
    "# from sklearn.svm import SVR\n",
    "from sklearn.model_selection import train_test_split,GridSearchCV"
   ]
  },
  {
   "cell_type": "code",
   "execution_count": 3,
   "id": "24541205-025c-4a40-8ee6-faef30f0aa5b",
   "metadata": {},
   "outputs": [],
   "source": [
    "mnist = datasets.load_digits()\n",
    "train_images, test_images, train_labels, test_labels = train_test_split(mnist.data, mnist.target, test_size=0.2)"
   ]
  },
  {
   "cell_type": "code",
   "execution_count": 7,
   "id": "8a7b4213-b0e6-4d92-9700-7457506303e1",
   "metadata": {},
   "outputs": [
    {
     "data": {
      "text/plain": [
       "7"
      ]
     },
     "execution_count": 7,
     "metadata": {},
     "output_type": "execute_result"
    }
   ],
   "source": [
    "len(mnist)"
   ]
  },
  {
   "cell_type": "code",
   "execution_count": 15,
   "id": "26d40376-aa55-46bf-a3af-171693bba14f",
   "metadata": {
    "tags": []
   },
   "outputs": [
    {
     "data": {
      "text/plain": [
       "(1797, 64)"
      ]
     },
     "execution_count": 15,
     "metadata": {},
     "output_type": "execute_result"
    }
   ],
   "source": [
    "mnist.data.shape"
   ]
  },
  {
   "cell_type": "code",
   "execution_count": 16,
   "id": "47314b27-39c5-4588-bc56-9c3f52aa3120",
   "metadata": {},
   "outputs": [
    {
     "data": {
      "text/plain": [
       "array([[ 0.,  0.,  5., ...,  0.,  0.,  0.],\n",
       "       [ 0.,  0.,  0., ..., 10.,  0.,  0.],\n",
       "       [ 0.,  0.,  0., ..., 16.,  9.,  0.],\n",
       "       ...,\n",
       "       [ 0.,  0.,  1., ...,  6.,  0.,  0.],\n",
       "       [ 0.,  0.,  2., ..., 12.,  0.,  0.],\n",
       "       [ 0.,  0., 10., ..., 12.,  1.,  0.]])"
      ]
     },
     "execution_count": 16,
     "metadata": {},
     "output_type": "execute_result"
    }
   ],
   "source": [
    "mnist.data"
   ]
  },
  {
   "cell_type": "code",
   "execution_count": 18,
   "id": "c112e319-a7b3-4204-8e0a-3bc1c712d919",
   "metadata": {},
   "outputs": [
    {
     "data": {
      "text/plain": [
       "(1797,)"
      ]
     },
     "execution_count": 18,
     "metadata": {},
     "output_type": "execute_result"
    }
   ],
   "source": [
    "mnist.target.shape"
   ]
  },
  {
   "cell_type": "code",
   "execution_count": 19,
   "id": "501238c7-cd58-45ef-8a03-7f67ece6cbbe",
   "metadata": {},
   "outputs": [
    {
     "data": {
      "image/png": "[encoded data removed]",
      "text/plain": [
       "<Figure size 1080x1080 with 25 Axes>"
      ]
     },
     "metadata": {},
     "output_type": "display_data"
    }
   ],
   "source": [
    "plt.figure(figsize=(15,15))\n",
    "for i in range(25):\n",
    "    plt.subplot(5,5,i+1)\n",
    "    plt.xticks([])\n",
    "    plt.yticks([])\n",
    "    plt.imshow(train_images[i].reshape((8,8)), cmap=plt.cm.binary)\n",
    "    plt.xlabel(train_labels[i])"
   ]
  },
  {
   "cell_type": "code",
   "execution_count": 20,
   "id": "b8e99403-3131-44ea-981c-b2eeeb01125d",
   "metadata": {
    "collapsed": true,
    "jupyter": {
     "outputs_hidden": true
    },
    "tags": []
   },
   "outputs": [
    {
     "name": "stdout",
     "output_type": "stream",
     "text": [
      "[LibSVM]*\n",
      "optimization finished, #iter = 66\n",
      "obj = -7.518638, rho = 0.576171\n",
      "nSV = 34, nBSV = 5\n",
      "*\n",
      "optimization finished, #iter = 78\n",
      "obj = -8.869291, rho = 0.356166\n",
      "nSV = 32, nBSV = 6\n",
      "*\n",
      "optimization finished, #iter = 75\n",
      "obj = -8.740829, rho = 0.268559\n",
      "nSV = 31, nBSV = 6\n",
      "*\n",
      "optimization finished, #iter = 78\n",
      "obj = -10.161578, rho = 0.473972\n",
      "nSV = 36, nBSV = 9\n",
      "*\n",
      "optimization finished, #iter = 125\n",
      "obj = -11.431997, rho = 0.566915\n",
      "nSV = 42, nBSV = 9\n",
      "*\n",
      "optimization finished, #iter = 71\n",
      "obj = -12.358975, rho = 0.280441\n",
      "nSV = 33, nBSV = 12\n",
      "*\n",
      "optimization finished, #iter = 76\n",
      "obj = -7.360673, rho = 0.420544\n",
      "nSV = 32, nBSV = 5\n",
      "*\n",
      "optimization finished, #iter = 105\n",
      "obj = -9.877040, rho = 0.314888\n",
      "nSV = 40, nBSV = 6\n",
      "*\n",
      "optimization finished, #iter = 120\n",
      "obj = -11.486633, rho = 0.302998\n",
      "nSV = 43, nBSV = 7\n",
      "*\n",
      "optimization finished, #iter = 88\n",
      "obj = -20.668460, rho = -0.375987\n",
      "nSV = 49, nBSV = 23\n",
      "*\n",
      "optimization finished, #iter = 116\n",
      "obj = -14.227152, rho = -0.464433\n",
      "nSV = 52, nBSV = 13\n",
      "*\n",
      "optimization finished, #iter = 152\n",
      "obj = -19.548867, rho = -0.107489\n",
      "nSV = 57, nBSV = 20\n",
      "*\n",
      "optimization finished, #iter = 108\n",
      "obj = -14.888426, rho = -0.328450\n",
      "nSV = 50, nBSV = 13\n",
      "*\n",
      "optimization finished, #iter = 99\n",
      "obj = -14.846822, rho = -0.459651\n",
      "nSV = 48, nBSV = 15\n",
      "*\n",
      "optimization finished, #iter = 96\n",
      "obj = -14.281953, rho = -0.053246\n",
      "nSV = 44, nBSV = 11\n",
      "*\n",
      "optimization finished, #iter = 159\n",
      "obj = -38.232746, rho = -0.712512\n",
      "nSV = 81, nBSV = 46\n",
      "*\n",
      "optimization finished, #iter = 134\n",
      "obj = -18.493850, rho = -0.339753\n",
      "nSV = 59, nBSV = 17\n",
      "*\n",
      "optimization finished, #iter = 132\n",
      "obj = -21.776509, rho = -0.204981\n",
      "nSV = 61, nBSV = 23\n",
      "*\n",
      "optimization finished, #iter = 99\n",
      "obj = -8.896735, rho = 0.106138\n",
      "nSV = 42, nBSV = 6\n",
      "*\n",
      "optimization finished, #iter = 115\n",
      "obj = -12.165521, rho = -0.003613\n",
      "nSV = 44, nBSV = 7\n",
      "*\n",
      "optimization finished, #iter = 76\n",
      "obj = -9.498999, rho = -0.180210\n",
      "nSV = 36, nBSV = 7\n",
      "*\n",
      "optimization finished, #iter = 109\n",
      "obj = -12.239145, rho = 0.011648\n",
      "nSV = 47, nBSV = 11\n",
      "*\n",
      "optimization finished, #iter = 179\n",
      "obj = -23.983691, rho = -0.218856\n",
      "nSV = 69, nBSV = 25\n",
      "*\n",
      "optimization finished, #iter = 137\n",
      "obj = -13.560292, rho = -0.054519\n",
      "nSV = 47, nBSV = 7\n",
      "*\n",
      "optimization finished, #iter = 69\n",
      "obj = -8.547447, rho = 0.254842\n",
      "nSV = 32, nBSV = 5\n",
      "*\n",
      "optimization finished, #iter = 115\n",
      "obj = -21.091031, rho = -0.009455\n",
      "nSV = 55, nBSV = 22\n",
      "*\n",
      "optimization finished, #iter = 71\n",
      "obj = -8.917431, rho = 0.035113\n",
      "nSV = 29, nBSV = 3\n",
      "*\n",
      "optimization finished, #iter = 133\n",
      "obj = -14.794864, rho = 0.191827\n",
      "nSV = 51, nBSV = 13\n",
      "*\n",
      "optimization finished, #iter = 116\n",
      "obj = -30.802117, rho = 0.175899\n",
      "nSV = 70, nBSV = 39\n",
      "*\n",
      "optimization finished, #iter = 178\n",
      "obj = -30.269944, rho = -0.099305\n",
      "nSV = 74, nBSV = 32\n",
      "*\n",
      "optimization finished, #iter = 101\n",
      "obj = -13.947685, rho = -0.164656\n",
      "nSV = 45, nBSV = 12\n",
      "*\n",
      "optimization finished, #iter = 104\n",
      "obj = -13.516421, rho = -0.465394\n",
      "nSV = 46, nBSV = 12\n",
      "*\n",
      "optimization finished, #iter = 128\n",
      "obj = -16.969404, rho = -0.094015\n",
      "nSV = 53, nBSV = 15\n",
      "*\n",
      "optimization finished, #iter = 125\n",
      "obj = -17.331293, rho = -0.196707\n",
      "nSV = 52, nBSV = 15\n",
      "*\n",
      "optimization finished, #iter = 108\n",
      "obj = -14.862796, rho = -0.068878\n",
      "nSV = 45, nBSV = 12\n",
      "*\n",
      "optimization finished, #iter = 69\n",
      "obj = -12.529697, rho = -0.285121\n",
      "nSV = 39, nBSV = 13\n",
      "*\n",
      "optimization finished, #iter = 106\n",
      "obj = -14.509468, rho = 0.133424\n",
      "nSV = 49, nBSV = 14\n",
      "*\n",
      "optimization finished, #iter = 126\n",
      "obj = -23.601276, rho = -0.097977\n",
      "nSV = 63, nBSV = 27\n",
      "*\n",
      "optimization finished, #iter = 120\n",
      "obj = -27.796833, rho = 0.324993\n",
      "nSV = 64, nBSV = 30\n",
      "*\n",
      "optimization finished, #iter = 83\n",
      "obj = -6.829297, rho = 0.201926\n",
      "nSV = 36, nBSV = 4\n",
      "*\n",
      "optimization finished, #iter = 78\n",
      "obj = -15.599210, rho = 0.202360\n",
      "nSV = 44, nBSV = 14\n",
      "*\n",
      "optimization finished, #iter = 84\n",
      "obj = -8.683387, rho = 0.180370\n",
      "nSV = 37, nBSV = 6\n",
      "*\n",
      "optimization finished, #iter = 122\n",
      "obj = -21.025778, rho = -0.287339\n",
      "nSV = 57, nBSV = 19\n",
      "*\n",
      "optimization finished, #iter = 92\n",
      "obj = -20.431160, rho = -0.012190\n",
      "nSV = 52, nBSV = 19\n",
      "*\n",
      "optimization finished, #iter = 131\n",
      "obj = -31.570899, rho = 0.178055\n",
      "nSV = 74, nBSV = 37\n",
      "Total nSV = 655\n"
     ]
    },
    {
     "data": {
      "text/plain": [
       "SVC(random_state=2525, verbose=True)"
      ]
     },
     "execution_count": 20,
     "metadata": {},
     "output_type": "execute_result"
    }
   ],
   "source": [
    "clf = SVC(verbose=True, random_state=2525)#vervose=Trueでログ表示\n",
    "clf.fit(train_images, train_labels)"
   ]
  },
  {
   "cell_type": "code",
   "execution_count": 21,
   "id": "a0187386-65b0-4887-85ee-d56326841922",
   "metadata": {},
   "outputs": [
    {
     "data": {
      "text/plain": [
       "array([2, 8, 3, 0, 3, 0, 9, 1, 1, 3, 5, 9, 7, 0, 2, 1, 3, 0, 7, 6, 3, 5,\n",
       "       5, 5, 7, 4, 1, 8, 3, 0, 8, 1, 1, 8, 8, 3, 2, 3, 2, 2, 4, 9, 3, 2,\n",
       "       3, 0, 5, 8, 9, 9, 7, 4, 9, 8, 1, 0, 6, 3, 4, 9, 1, 2, 9, 9, 7, 4,\n",
       "       4, 5, 9, 9, 1, 1, 3, 7, 8, 8, 8, 1, 4, 8, 3, 2, 9, 6, 3, 4, 1, 2,\n",
       "       8, 5, 7, 2, 3, 2, 2, 7, 4, 0, 8, 1, 5, 3, 3, 3, 6, 0, 8, 4, 9, 0,\n",
       "       4, 4, 8, 5, 2, 3, 2, 2, 6, 1, 3, 9, 3, 0, 2, 1, 0, 7, 1, 1, 2, 2,\n",
       "       7, 2, 9, 2, 3, 1, 1, 9, 2, 4, 8, 9, 4, 9, 7, 0, 0, 3, 2, 3, 7, 4,\n",
       "       7, 9, 0, 1, 6, 2, 7, 6, 7, 8, 8, 6, 6, 6, 8, 1, 7, 7, 0, 0, 1, 6,\n",
       "       3, 8, 3, 2, 3, 4, 0, 1, 8, 4, 0, 0, 1, 2, 7, 0, 9, 5, 1, 5, 5, 5,\n",
       "       0, 2, 6, 6, 6, 2, 9, 5, 7, 8, 8, 4, 4, 1, 2, 8, 3, 2, 4, 2, 2, 9,\n",
       "       9, 0, 9, 0, 7, 0, 4, 3, 0, 9, 9, 6, 6, 0, 6, 1, 7, 7, 6, 3, 8, 1,\n",
       "       0, 4, 2, 9, 6, 3, 4, 1, 1, 3, 7, 5, 6, 8, 4, 9, 6, 6, 5, 7, 6, 4,\n",
       "       5, 8, 8, 0, 0, 1, 1, 7, 4, 3, 3, 6, 4, 4, 3, 6, 5, 2, 2, 1, 5, 2,\n",
       "       5, 5, 3, 3, 3, 9, 1, 6, 4, 5, 4, 3, 1, 4, 7, 4, 0, 9, 0, 3, 6, 1,\n",
       "       8, 3, 3, 7, 5, 1, 9, 7, 7, 0, 6, 0, 8, 0, 1, 0, 0, 8, 2, 3, 1, 4,\n",
       "       5, 0, 9, 2, 4, 0, 9, 2, 1, 0, 7, 8, 1, 7, 8, 0, 8, 2, 6, 3, 4, 0,\n",
       "       8, 3, 5, 3, 8, 5, 9, 0])"
      ]
     },
     "execution_count": 21,
     "metadata": {},
     "output_type": "execute_result"
    }
   ],
   "source": [
    "predicted_labels = clf.predict(test_images)\n",
    "predicted_labels"
   ]
  },
  {
   "cell_type": "code",
   "execution_count": 22,
   "id": "8bc4c30b-8911-445e-a0b2-3b5dcb3d380b",
   "metadata": {},
   "outputs": [
    {
     "name": "stdout",
     "output_type": "stream",
     "text": [
      "acc: 0.9833333333333333\n"
     ]
    }
   ],
   "source": [
    "print(f\"acc: {clf.score(test_images, test_labels)}\")\n",
    "# acc: 0.4388888888888889"
   ]
  },
  {
   "cell_type": "code",
   "execution_count": 23,
   "id": "febaf0b0-944a-4c00-9f6f-c2a5ae72dbc3",
   "metadata": {},
   "outputs": [
    {
     "data": {
      "image/png": "[encoded data removed]",
      "text/plain": [
       "<Figure size 1080x1080 with 25 Axes>"
      ]
     },
     "metadata": {},
     "output_type": "display_data"
    }
   ],
   "source": [
    "plt.figure(figsize=(15,15))\n",
    " \n",
    "# 先頭から25枚テストデータを可視化\n",
    "for i in range(25):\n",
    "    \n",
    "    # 画像を作成\n",
    "    plt.subplot(5,5,i+1)\n",
    "    plt.xticks([])\n",
    "    plt.yticks([])\n",
    "    plt.imshow(test_images[i].reshape((8,8)), cmap=plt.cm.binary)\n",
    "    \n",
    "    # 今プロットを作っている画像データの予測ラベルと正解ラベルをセット\n",
    "    predicted_label = predicted_labels[i]\n",
    "    true_label      = test_labels[i]\n",
    "    \n",
    "    # 予測ラベルが正解なら緑、不正解なら赤色を使う\n",
    "    if predicted_label == true_label:\n",
    "        color = 'green' # True label color\n",
    "    else:\n",
    "        color = 'red'   # False label color\n",
    "    plt.xlabel(\"{} True({})\".format(predicted_label, \n",
    "                                  true_label),\n",
    "                                  color=color)"
   ]
  },
  {
   "cell_type": "code",
   "execution_count": 28,
   "id": "356eb3a1-18db-41e6-aaf2-2013377b7358",
   "metadata": {},
   "outputs": [
    {
     "name": "stdout",
     "output_type": "stream",
     "text": [
      "Fitting 3 folds for each of 60 candidates, totalling 180 fits\n",
      "Best params: {'C': 10, 'kernel': 'rbf', 'random_state': 2525}\n",
      "Best Score: 0.9902574808629089\n",
      "SVC(C=10, random_state=2525)\n"
     ]
    }
   ],
   "source": [
    "search_params = [\n",
    "    {\n",
    "        \"kernel\"          : [\"rbf\",\"linear\",\"sigmoid\"],\n",
    "        \"C\"               : [10**i for i in range(-10,10)],\n",
    "        \"random_state\"    : [2525],\n",
    "    }\n",
    "]\n",
    "gs = GridSearchCV(SVC(), \n",
    "                  search_params, \n",
    "                  cv = 3,\n",
    "                  verbose=True, \n",
    "                  n_jobs=-1)\n",
    "gs.fit(train_images, train_labels)\n",
    "\n",
    "# グリッドサーチの結果から得られた最適なパラメータ候補を確認\n",
    "print('Best params: {}'.format(gs.best_params_)) \n",
    "print('Best Score: {}'.format(gs.best_score_))\n",
    "print(gs.best_estimator_)"
   ]
  },
  {
   "cell_type": "code",
   "execution_count": 29,
   "id": "85a1ccf0-2f40-4020-8227-467943494373",
   "metadata": {},
   "outputs": [
    {
     "name": "stdout",
     "output_type": "stream",
     "text": [
      "0.9861111111111112\n"
     ]
    }
   ],
   "source": [
    "print(gs.best_estimator_.score(test_images,test_labels))\n",
    "predicted_label = gs.best_estimator_.predict(test_images)"
   ]
  },
  {
   "cell_type": "code",
   "execution_count": null,
   "id": "0f8f48e9-f96b-44cb-9e57-317d7d310558",
   "metadata": {},
   "outputs": [],
   "source": []
  }
 ],
 "metadata": {
  "kernelspec": {
   "display_name": "Python 3 (ipykernel)",
   "language": "python",
   "name": "python3"
  },
  "language_info": {
   "codemirror_mode": {
    "name": "ipython",
    "version": 3
   },
   "file_extension": ".py",
   "mimetype": "text/x-python",
   "name": "python",
   "nbconvert_exporter": "python",
   "pygments_lexer": "ipython3",
   "version": "3.9.7"
  }
 },
 "nbformat": 4,
 "nbformat_minor": 5
}
