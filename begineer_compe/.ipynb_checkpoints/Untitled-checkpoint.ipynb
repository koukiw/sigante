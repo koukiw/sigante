{
 "cells": [
  {
   "cell_type": "code",
   "execution_count": 5,
   "id": "a4a3dc21-294c-401f-8791-e84bb7d9597e",
   "metadata": {},
   "outputs": [
    {
     "name": "stderr",
     "output_type": "stream",
     "text": [
      "/Users/kouki/opt/anaconda3/envs/signate/lib/python3.9/site-packages/xgboost/compat.py:36: FutureWarning: pandas.Int64Index is deprecated and will be removed from pandas in a future version. Use pandas.Index with the appropriate dtype instead.\n",
      "  from pandas import MultiIndex, Int64Index\n"
     ]
    }
   ],
   "source": [
    "from pathlib import Path\n",
    "import sys\n",
    "import scipy\n",
    "import numpy as np\n",
    "import pandas as pd\n",
    "import time\n",
    "import matplotlib.pyplot as plt\n",
    "import seaborn as sns\n",
    "import xgboost as xgb\n",
    "from sklearn.datasets import make_classification\n",
    "from sklearn.model_selection import train_test_split, StratifiedKFold\n",
    "\n",
    "result_dir_path = Path('result')\n",
    "\n",
    "if not result_dir_path.exists():\n",
    "    result_dir_path.mkdir(parents=True)"
   ]
  },
  {
   "cell_type": "code",
   "execution_count": 14,
   "id": "9b09df1f-942e-48de-85de-cdbb8ca5d211",
   "metadata": {},
   "outputs": [
    {
     "data": {
      "text/plain": [
       "array([[-7.79528357e-01, -8.37848906e-01,  2.54595134e-01,\n",
       "         1.02939101e+00,  1.90196296e-01,  1.18994694e+00],\n",
       "       [ 2.95846270e-01,  2.48293059e+00, -3.69687911e-01,\n",
       "        -2.73371432e+00,  5.21889196e-01, -1.70669126e+00],\n",
       "       [-2.06052865e+00, -6.02944799e-01, -2.49969158e-01,\n",
       "        -5.09678392e-01,  2.05371970e+00, -1.83105177e+00],\n",
       "       [-1.46815162e+00, -8.88309008e-01, -3.09248724e-03,\n",
       "         2.00872173e+00,  8.37717821e-04,  2.00654216e+00],\n",
       "       [-9.40636473e-01, -1.11885800e+00,  7.21600032e-01,\n",
       "        -1.32969776e+00,  2.07116486e+00, -1.38944886e+00],\n",
       "       [-5.22425436e-01, -9.47308919e-01, -1.26334310e+00,\n",
       "         1.74055037e+00, -3.09629310e-01, -1.90582553e+00],\n",
       "       [-1.90491220e+00, -2.10986681e-02, -2.04345426e+00,\n",
       "         2.66447734e+00, -4.46772176e-01, -1.10604041e+00],\n",
       "       [-4.73545099e-01, -2.68399971e+00,  2.39644177e+00,\n",
       "        -2.16933876e+00,  3.00758085e+00, -4.28708384e-01],\n",
       "       [-1.81897569e-01,  2.40023417e+00, -5.00470589e-02,\n",
       "        -1.84323370e+00,  2.25769448e-01,  3.99886903e-01],\n",
       "       [-1.37861842e+00, -8.96789748e-01,  3.96128032e-01,\n",
       "        -1.10392093e+00,  2.11705116e+00, -1.53228764e+00]])"
      ]
     },
     "execution_count": 14,
     "metadata": {},
     "output_type": "execute_result"
    }
   ],
   "source": [
    "X_data, y_data = make_classification(\n",
    "    n_classes=4,\n",
    "    n_samples=10,\n",
    "    n_features=6,\n",
    "    n_clusters_per_class=1,\n",
    "    n_informative=4,\n",
    "    random_state=42\n",
    ")\n",
    "\n",
    "X_data\n"
   ]
  },
  {
   "cell_type": "code",
   "execution_count": 15,
   "id": "2dc9bb2b-1536-4543-96b7-5a74857dc08a",
   "metadata": {},
   "outputs": [],
   "source": [
    "data = pd.DataFrame(\n",
    "    X_data, \n",
    "    columns=['X' + str(i + 1) for i in range(X_data.shape[1])]\n",
    ")\n",
    "\n",
    "new_0_col = 10\n",
    "\n",
    "data = pd.concat([\n",
    "    data,\n",
    "    pd.DataFrame(\n",
    "        np.zeros((data.shape[0], new_0_col)), \n",
    "        columns=['X' + str(i + data.shape[1] + 1) for i in range(new_0_col)]\n",
    "    )\n",
    "], axis=1)\n",
    "data"
   ]
  },
  {
   "cell_type": "code",
   "execution_count": 16,
   "id": "f266a245-d46d-4901-a9e5-cb59b65ee8e4",
   "metadata": {},
   "outputs": [
    {
     "data": {
      "text/html": [
       "<div>\n",
       "<style scoped>\n",
       "    .dataframe tbody tr th:only-of-type {\n",
       "        vertical-align: middle;\n",
       "    }\n",
       "\n",
       "    .dataframe tbody tr th {\n",
       "        vertical-align: top;\n",
       "    }\n",
       "\n",
       "    .dataframe thead th {\n",
       "        text-align: right;\n",
       "    }\n",
       "</style>\n",
       "<table border=\"1\" class=\"dataframe\">\n",
       "  <thead>\n",
       "    <tr style=\"text-align: right;\">\n",
       "      <th></th>\n",
       "      <th>X1</th>\n",
       "      <th>X2</th>\n",
       "      <th>X3</th>\n",
       "      <th>X4</th>\n",
       "      <th>X5</th>\n",
       "      <th>X6</th>\n",
       "    </tr>\n",
       "  </thead>\n",
       "  <tbody>\n",
       "    <tr>\n",
       "      <th>0</th>\n",
       "      <td>-0.779528</td>\n",
       "      <td>-0.837849</td>\n",
       "      <td>0.254595</td>\n",
       "      <td>1.029391</td>\n",
       "      <td>0.190196</td>\n",
       "      <td>1.189947</td>\n",
       "    </tr>\n",
       "    <tr>\n",
       "      <th>1</th>\n",
       "      <td>0.295846</td>\n",
       "      <td>2.482931</td>\n",
       "      <td>-0.369688</td>\n",
       "      <td>-2.733714</td>\n",
       "      <td>0.521889</td>\n",
       "      <td>-1.706691</td>\n",
       "    </tr>\n",
       "    <tr>\n",
       "      <th>2</th>\n",
       "      <td>-2.060529</td>\n",
       "      <td>-0.602945</td>\n",
       "      <td>-0.249969</td>\n",
       "      <td>-0.509678</td>\n",
       "      <td>2.053720</td>\n",
       "      <td>-1.831052</td>\n",
       "    </tr>\n",
       "    <tr>\n",
       "      <th>3</th>\n",
       "      <td>-1.468152</td>\n",
       "      <td>-0.888309</td>\n",
       "      <td>-0.003092</td>\n",
       "      <td>2.008722</td>\n",
       "      <td>0.000838</td>\n",
       "      <td>2.006542</td>\n",
       "    </tr>\n",
       "    <tr>\n",
       "      <th>4</th>\n",
       "      <td>-0.940636</td>\n",
       "      <td>-1.118858</td>\n",
       "      <td>0.721600</td>\n",
       "      <td>-1.329698</td>\n",
       "      <td>2.071165</td>\n",
       "      <td>-1.389449</td>\n",
       "    </tr>\n",
       "    <tr>\n",
       "      <th>5</th>\n",
       "      <td>-0.522425</td>\n",
       "      <td>-0.947309</td>\n",
       "      <td>-1.263343</td>\n",
       "      <td>1.740550</td>\n",
       "      <td>-0.309629</td>\n",
       "      <td>-1.905826</td>\n",
       "    </tr>\n",
       "    <tr>\n",
       "      <th>6</th>\n",
       "      <td>-1.904912</td>\n",
       "      <td>-0.021099</td>\n",
       "      <td>-2.043454</td>\n",
       "      <td>2.664477</td>\n",
       "      <td>-0.446772</td>\n",
       "      <td>-1.106040</td>\n",
       "    </tr>\n",
       "    <tr>\n",
       "      <th>7</th>\n",
       "      <td>-0.473545</td>\n",
       "      <td>-2.684000</td>\n",
       "      <td>2.396442</td>\n",
       "      <td>-2.169339</td>\n",
       "      <td>3.007581</td>\n",
       "      <td>-0.428708</td>\n",
       "    </tr>\n",
       "    <tr>\n",
       "      <th>8</th>\n",
       "      <td>-0.181898</td>\n",
       "      <td>2.400234</td>\n",
       "      <td>-0.050047</td>\n",
       "      <td>-1.843234</td>\n",
       "      <td>0.225769</td>\n",
       "      <td>0.399887</td>\n",
       "    </tr>\n",
       "    <tr>\n",
       "      <th>9</th>\n",
       "      <td>-1.378618</td>\n",
       "      <td>-0.896790</td>\n",
       "      <td>0.396128</td>\n",
       "      <td>-1.103921</td>\n",
       "      <td>2.117051</td>\n",
       "      <td>-1.532288</td>\n",
       "    </tr>\n",
       "  </tbody>\n",
       "</table>\n",
       "</div>"
      ],
      "text/plain": [
       "         X1        X2        X3        X4        X5        X6\n",
       "0 -0.779528 -0.837849  0.254595  1.029391  0.190196  1.189947\n",
       "1  0.295846  2.482931 -0.369688 -2.733714  0.521889 -1.706691\n",
       "2 -2.060529 -0.602945 -0.249969 -0.509678  2.053720 -1.831052\n",
       "3 -1.468152 -0.888309 -0.003092  2.008722  0.000838  2.006542\n",
       "4 -0.940636 -1.118858  0.721600 -1.329698  2.071165 -1.389449\n",
       "5 -0.522425 -0.947309 -1.263343  1.740550 -0.309629 -1.905826\n",
       "6 -1.904912 -0.021099 -2.043454  2.664477 -0.446772 -1.106040\n",
       "7 -0.473545 -2.684000  2.396442 -2.169339  3.007581 -0.428708\n",
       "8 -0.181898  2.400234 -0.050047 -1.843234  0.225769  0.399887\n",
       "9 -1.378618 -0.896790  0.396128 -1.103921  2.117051 -1.532288"
      ]
     },
     "execution_count": 16,
     "metadata": {},
     "output_type": "execute_result"
    }
   ],
   "source": [
    "data"
   ]
  },
  {
   "cell_type": "code",
   "execution_count": 18,
   "id": "94204619-c9f4-4294-b6bf-7f6e189d7e66",
   "metadata": {},
   "outputs": [
    {
     "data": {
      "text/plain": [
       "(10, 10)"
      ]
     },
     "execution_count": 18,
     "metadata": {},
     "output_type": "execute_result"
    }
   ],
   "source": [
    "np.zeros((data.shape[0], new_0_col)).shape"
   ]
  },
  {
   "cell_type": "code",
   "execution_count": null,
   "id": "49c26af2-5709-4a8f-be7b-278a560910d3",
   "metadata": {},
   "outputs": [],
   "source": []
  }
 ],
 "metadata": {
  "kernelspec": {
   "display_name": "Python 3 (ipykernel)",
   "language": "python",
   "name": "python3"
  },
  "language_info": {
   "codemirror_mode": {
    "name": "ipython",
    "version": 3
   },
   "file_extension": ".py",
   "mimetype": "text/x-python",
   "name": "python",
   "nbconvert_exporter": "python",
   "pygments_lexer": "ipython3",
   "version": "3.9.12"
  }
 },
 "nbformat": 4,
 "nbformat_minor": 5
}
