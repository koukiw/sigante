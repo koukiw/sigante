{
 "cells": [
  {
   "cell_type": "code",
   "execution_count": 1,
   "id": "3d30f197-6b30-45aa-9445-24435a559c86",
   "metadata": {},
   "outputs": [],
   "source": [
    "from sklearn import datasets\n",
    "import numpy as np\n",
    "import matplotlib.pyplot as plt\n",
    "from sklearn.svm import SVC\n",
    "# from sklearn.svm import SVR\n",
    "from sklearn.model_selection import train_test_split,GridSearchCV"
   ]
  },
  {
   "cell_type": "code",
   "execution_count": 2,
   "id": "0e52b51b-7d0f-44e7-8fa0-2e513a91f2b4",
   "metadata": {},
   "outputs": [],
   "source": [
    "import pandas as pd\n",
    "import matplotlib as mpl\n",
    "import seaborn as sns\n",
    "sns.set(font=\"IPAexGothic\",style=\"white\")\n",
    "from sklearn.metrics import mean_squared_error\n",
    "from sklearn.metrics import mean_absolute_error\n",
    "from sklearn.metrics import mean_squared_error\n",
    "from sklearn.metrics import r2_score\n",
    "from sklearn.model_selection import KFold\n",
    "from sklearn.metrics import mean_squared_error as MSE\n",
    "from sklearn.model_selection import train_test_split"
   ]
  },
  {
   "cell_type": "code",
   "execution_count": 3,
   "id": "518f6740-7033-4739-b008-a35bf777d70d",
   "metadata": {},
   "outputs": [
    {
     "name": "stdout",
     "output_type": "stream",
     "text": [
      "Data Shapes\n",
      "Train: (1200, 30) Test: (800, 29) Sample: (800, 2)\n"
     ]
    }
   ],
   "source": [
    "train = pd.read_csv(\"train.csv\")\n",
    "test = pd.read_csv(\"test.csv\")\n",
    "sample = pd.read_csv(\"sample_submit.csv\",header=None)\n",
    "train= train.drop(['id','Over18','Gender','StandardHours'], axis=1)\n",
    "test= test.drop(['id','Over18','Gender','StandardHours'], axis=1)\n",
    "print(\"Data Shapes\")\n",
    "print(\"Train:\",train.shape, \"Test:\",test.shape, \"Sample:\",sample.shape)"
   ]
  },
  {
   "cell_type": "code",
   "execution_count": 4,
   "id": "4330a214-a5db-41b6-9d9b-e0b811602bf7",
   "metadata": {},
   "outputs": [],
   "source": [
    "dummy_train = pd.get_dummies(train,drop_first=True)\n",
    "dm_train_y = dummy_train.Attrition\n",
    "dm_train_x = dummy_train.drop(\"Attrition\",axis=1)\n",
    "# 学習データとテストデータに分ける\n",
    "X_train, X_test, y_train, y_test = train_test_split(dm_train_x,dm_train_y,\n",
    "                                                    test_size=0.2,\n",
    "                                                    random_state=0,\n",
    "                                                    stratify=dm_train_y)"
   ]
  },
  {
   "cell_type": "code",
   "execution_count": 5,
   "id": "da1e33d2-30ec-4612-8168-59e539fff80f",
   "metadata": {},
   "outputs": [
    {
     "name": "stdout",
     "output_type": "stream",
     "text": [
      "[LibSVM]*\n",
      "optimization finished, #iter = 729\n",
      "obj = -339.997721, rho = -1.005207\n",
      "nSV = 478, nBSV = 263\n",
      "Total nSV = 478\n"
     ]
    },
    {
     "data": {
      "text/plain": [
       "SVC(random_state=2525, verbose=True)"
      ]
     },
     "execution_count": 5,
     "metadata": {},
     "output_type": "execute_result"
    }
   ],
   "source": [
    "clf = SVC(verbose=True, random_state=2525)#vervose=Trueでログ表示\n",
    "clf.fit(X_train, y_train)"
   ]
  },
  {
   "cell_type": "code",
   "execution_count": 10,
   "id": "614c9bcb-eca7-4748-b038-5b2bf628f547",
   "metadata": {},
   "outputs": [
    {
     "data": {
      "text/plain": [
       "array([0, 0, 0, 0, 0, 0, 0, 0, 0, 0, 0, 0, 0, 0, 0, 0, 0, 0, 0, 0, 0, 0,\n",
       "       0, 0, 0, 0, 0, 0, 0, 0, 0, 0, 0, 0, 0, 0, 0, 0, 0, 0, 0, 0, 0, 0,\n",
       "       0, 0, 0, 0, 0, 0, 0, 0, 0, 0, 0, 0, 0, 0, 0, 0, 0, 0, 0, 0, 0, 0,\n",
       "       0, 0, 0, 0, 0, 0, 0, 0, 0, 0, 0, 0, 0, 0, 0, 0, 0, 0, 0, 0, 0, 0,\n",
       "       0, 0, 0, 0, 0, 0, 0, 0, 0, 0, 0, 0, 0, 0, 0, 0, 0, 0, 0, 0, 0, 0,\n",
       "       0, 0, 0, 0, 0, 0, 0, 0, 0, 0, 0, 0, 0, 0, 0, 0, 0, 0, 0, 0, 0, 0,\n",
       "       0, 0, 0, 0, 0, 0, 0, 0, 0, 0, 0, 0, 0, 0, 0, 0, 0, 0, 0, 0, 0, 0,\n",
       "       0, 0, 0, 0, 0, 0, 0, 0, 0, 0, 0, 0, 0, 0, 0, 0, 0, 0, 0, 0, 0, 0,\n",
       "       0, 0, 0, 0, 0, 0, 0, 0, 0, 0, 0, 0, 0, 0, 0, 0, 0, 0, 0, 0, 0, 0,\n",
       "       0, 0, 0, 0, 0, 0, 0, 0, 0, 0, 0, 0, 0, 0, 0, 0, 0, 0, 0, 0, 0, 0,\n",
       "       0, 0, 0, 0, 0, 0, 0, 0, 0, 0, 0, 0, 0, 0, 0, 0, 0, 0, 0, 0])"
      ]
     },
     "execution_count": 10,
     "metadata": {},
     "output_type": "execute_result"
    }
   ],
   "source": [
    "predicted_labels = clf.predict(X_test)\n",
    "predicted_labels"
   ]
  },
  {
   "cell_type": "code",
   "execution_count": 11,
   "id": "61a97b3f-3501-4674-aa9b-7f8a97a51de7",
   "metadata": {},
   "outputs": [
    {
     "data": {
      "text/plain": [
       "(240,)"
      ]
     },
     "execution_count": 11,
     "metadata": {},
     "output_type": "execute_result"
    }
   ],
   "source": [
    "y_test.shape"
   ]
  },
  {
   "cell_type": "code",
   "execution_count": 28,
   "id": "0aad692a-98c4-432c-ba1b-055a749a50c9",
   "metadata": {},
   "outputs": [
    {
     "name": "stdout",
     "output_type": "stream",
     "text": [
      "train_acc: 0.8208333333333333\n",
      "test_acc: 0.8229166666666666\n"
     ]
    }
   ],
   "source": [
    "print(f\"train_acc: {clf.score(X_test,y_test)}\")\n",
    "print(f\"test_acc: {clf.score(X_train,y_train)}\")\n",
    "#ズレが大きければ過剰適合"
   ]
  },
  {
   "cell_type": "code",
   "execution_count": null,
   "id": "d1966451-50d2-49ed-bb3b-160df397425c",
   "metadata": {},
   "outputs": [],
   "source": []
  },
  {
   "cell_type": "code",
   "execution_count": null,
   "id": "4219496c-f82c-4448-88e8-3b65665bc915",
   "metadata": {},
   "outputs": [],
   "source": []
  },
  {
   "cell_type": "code",
   "execution_count": 17,
   "id": "eb54c69d-669e-4f1b-9532-67791d290d28",
   "metadata": {},
   "outputs": [
    {
     "name": "stdout",
     "output_type": "stream",
     "text": [
      "Fitting 3 folds for each of 12 candidates, totalling 36 fits\n",
      "Best params: {'C': 0.1, 'kernel': 'linear', 'random_state': 2525}\n",
      "Best Score: 0.8333333333333334\n",
      "SVC(C=0.1, kernel='linear', random_state=2525)\n"
     ]
    }
   ],
   "source": [
    "search_params = [\n",
    "    {\n",
    "        \"kernel\"          : [\"rbf\",\"linear\",\"sigmoid\"],\n",
    "        \"C\"               : [10**i for i in range(-2,2)],\n",
    "        \"random_state\"    : [2525],\n",
    "    }\n",
    "]\n",
    "#SVCのCはL2正則化の制約の強さと関係している。Cが大きいほど制約は弱い(alphaは小さいほど制約が弱い)（trainデータへの適合度が上がる）、このパラメーターが一番重要\n",
    "gs = GridSearchCV(SVC(), \n",
    "                  search_params, \n",
    "                  cv = 3,\n",
    "                  verbose=True, \n",
    "                  n_jobs=-1)\n",
    "gs.fit(X_train,y_train)\n",
    "\n",
    "# グリッドサーチの結果から得られた最適なパラメータ候補を確認\n",
    "print('Best params: {}'.format(gs.best_params_)) \n",
    "print('Best Score: {}'.format(gs.best_score_))\n",
    "print(gs.best_estimator_)"
   ]
  },
  {
   "cell_type": "code",
   "execution_count": 19,
   "id": "5a582763-4a66-4299-a89d-f1922dd8b61a",
   "metadata": {},
   "outputs": [
    {
     "name": "stdout",
     "output_type": "stream",
     "text": [
      "0.8208333333333333\n"
     ]
    }
   ],
   "source": [
    "print(gs.best_estimator_.score(X_test,y_test))\n",
    "predicted_label = gs.best_estimator_.predict(X_test)"
   ]
  },
  {
   "cell_type": "code",
   "execution_count": 23,
   "id": "5e479fb6-17a2-4197-be8b-5e6a34fb8357",
   "metadata": {},
   "outputs": [],
   "source": [
    "#実際のデータで予測\n",
    "dummy_test = pd.get_dummies(test,drop_first=True)\n",
    "pred = gs.best_estimator_.predict(dummy_test)"
   ]
  },
  {
   "cell_type": "code",
   "execution_count": 25,
   "id": "cc5cff0d-6855-43ed-8e52-1474d4a88318",
   "metadata": {},
   "outputs": [],
   "source": [
    "sample[1] = pred\n",
    "# dfをcsv出力　indexをTrueにしたら0からインデックスが降られる、headerはカラム名が一番上に追加される\n",
    "sample.to_csv(\"submit07_SVM.csv\", index = False, header=False)"
   ]
  },
  {
   "cell_type": "code",
   "execution_count": null,
   "id": "5fd9e900-d40e-4fdf-940f-8777bc59a183",
   "metadata": {},
   "outputs": [],
   "source": []
  }
 ],
 "metadata": {
  "kernelspec": {
   "display_name": "Python 3 (ipykernel)",
   "language": "python",
   "name": "python3"
  },
  "language_info": {
   "codemirror_mode": {
    "name": "ipython",
    "version": 3
   },
   "file_extension": ".py",
   "mimetype": "text/x-python",
   "name": "python",
   "nbconvert_exporter": "python",
   "pygments_lexer": "ipython3",
   "version": "3.9.7"
  }
 },
 "nbformat": 4,
 "nbformat_minor": 5
}
