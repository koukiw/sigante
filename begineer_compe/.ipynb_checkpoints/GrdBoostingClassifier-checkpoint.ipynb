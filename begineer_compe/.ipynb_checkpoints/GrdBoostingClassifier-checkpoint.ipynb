{
 "cells": [
  {
   "cell_type": "code",
   "execution_count": 92,
   "id": "88e04463-209e-453b-bc7c-c06cea472485",
   "metadata": {},
   "outputs": [
    {
     "name": "stdin",
     "output_type": "stream",
     "text": [
      "Once deleted, variables cannot be recovered. Proceed (y/[n])?  y\n"
     ]
    }
   ],
   "source": [
    "%reset"
   ]
  },
  {
   "cell_type": "code",
   "execution_count": 93,
   "id": "174c8492-1bb8-42df-abd4-e57295d9d9e2",
   "metadata": {},
   "outputs": [],
   "source": [
    "import pandas as pd\n",
    "from sklearn.model_selection import GridSearchCV\n",
    "from sklearn.ensemble import GradientBoostingClassifier\n",
    "from sklearn.model_selection import cross_val_score\n",
    "# import matplotlib.pyplot as plt\n",
    "import numpy as np"
   ]
  },
  {
   "cell_type": "code",
   "execution_count": 94,
   "id": "2d54ee1d-9c2d-4fc9-9ccf-6da2d71ebb3f",
   "metadata": {},
   "outputs": [],
   "source": [
    "train = pd.read_csv(\"train.csv\")\n",
    "test = pd.read_csv(\"test.csv\")\n",
    "sample = pd.read_csv(\"sample_submit.csv\",header=None)\n",
    "\n",
    "train= train.drop(['id','Over18','Gender','StandardHours'], axis=1)\n",
    "test= test.drop(['id','Over18','Gender','StandardHours'], axis=1)\n",
    "#trainデータから説明変数と目的変数に分ける\n",
    "dummy_train = pd.get_dummies(train,drop_first=True)\n",
    "dummy_test = pd.get_dummies(test,drop_first=True)\n",
    "dm_train_y = dummy_train.Attrition\n",
    "dm_train_x = dummy_train.drop(\"Attrition\",axis=1)\n",
    "from sklearn.model_selection import train_test_split\n",
    "# 学習データとテストデータに分ける\n",
    "X_train, X_test, y_train, y_test = train_test_split(dm_train_x,dm_train_y,\n",
    "                                                    test_size=0.2,\n",
    "                                                    random_state=0,\n",
    "                                                    stratify=dm_train_y)"
   ]
  },
  {
   "cell_type": "code",
   "execution_count": 95,
   "id": "00471f3a-b963-4e21-9c3d-afa9a1d75b43",
   "metadata": {},
   "outputs": [
    {
     "name": "stdout",
     "output_type": "stream",
     "text": [
      "train_score= 0.9666666666666667\n",
      "test_score= 0.8416666666666667\n"
     ]
    }
   ],
   "source": [
    "gbrt = GradientBoostingClassifier(random_state=0)\n",
    "gbrt.fit(X_train, y_train)\n",
    "print(\"train_score=\", gbrt.score(X_train, y_train))\n",
    "print(\"test_score=\", gbrt.score(X_test, y_test))"
   ]
  },
  {
   "cell_type": "code",
   "execution_count": 96,
   "id": "ecfde8f1-ec16-4102-b884-a349f252f8cd",
   "metadata": {},
   "outputs": [
    {
     "name": "stdout",
     "output_type": "stream",
     "text": [
      "train_score= 0.8635416666666667\n",
      "test_score= 0.8208333333333333\n"
     ]
    }
   ],
   "source": [
    "gbrt_dev = GradientBoostingClassifier(random_state=0, max_depth=1)\n",
    "gbrt_dev.fit(X_train, y_train)\n",
    "print(\"train_score=\", gbrt_dev.score(X_train, y_train))\n",
    "print(\"test_score=\", gbrt_dev.score(X_test, y_test))"
   ]
  },
  {
   "cell_type": "code",
   "execution_count": 97,
   "id": "3c789ce3-4354-4e88-bd90-14341340a5d3",
   "metadata": {},
   "outputs": [
    {
     "name": "stdout",
     "output_type": "stream",
     "text": [
      "train_score= 0.8395833333333333\n",
      "test_score= 0.825\n"
     ]
    }
   ],
   "source": [
    "gbrt_dev = GradientBoostingClassifier(random_state=0, learning_rate=0.01)\n",
    "gbrt_dev.fit(X_train, y_train)\n",
    "print(\"train_score=\", gbrt_dev.score(X_train, y_train))\n",
    "print(\"test_score=\", gbrt_dev.score(X_test, y_test))"
   ]
  },
  {
   "cell_type": "code",
   "execution_count": 99,
   "id": "05dd3226-ff4f-43f0-882d-7239a508c2c7",
   "metadata": {
    "tags": []
   },
   "outputs": [
    {
     "data": {
      "text/html": [
       "<div>\n",
       "<style scoped>\n",
       "    .dataframe tbody tr th:only-of-type {\n",
       "        vertical-align: middle;\n",
       "    }\n",
       "\n",
       "    .dataframe tbody tr th {\n",
       "        vertical-align: top;\n",
       "    }\n",
       "\n",
       "    .dataframe thead th {\n",
       "        text-align: right;\n",
       "    }\n",
       "</style>\n",
       "<table border=\"1\" class=\"dataframe\">\n",
       "  <thead>\n",
       "    <tr style=\"text-align: right;\">\n",
       "      <th></th>\n",
       "      <th>col</th>\n",
       "      <th>imp</th>\n",
       "    </tr>\n",
       "  </thead>\n",
       "  <tbody>\n",
       "    <tr>\n",
       "      <th>22</th>\n",
       "      <td>YearsWithCurrManager</td>\n",
       "      <td>0.104917</td>\n",
       "    </tr>\n",
       "    <tr>\n",
       "      <th>0</th>\n",
       "      <td>Age</td>\n",
       "      <td>0.090555</td>\n",
       "    </tr>\n",
       "    <tr>\n",
       "      <th>16</th>\n",
       "      <td>TotalWorkingYears</td>\n",
       "      <td>0.086467</td>\n",
       "    </tr>\n",
       "    <tr>\n",
       "      <th>2</th>\n",
       "      <td>DistanceFromHome</td>\n",
       "      <td>0.079195</td>\n",
       "    </tr>\n",
       "    <tr>\n",
       "      <th>20</th>\n",
       "      <td>YearsInCurrentRole</td>\n",
       "      <td>0.073285</td>\n",
       "    </tr>\n",
       "    <tr>\n",
       "      <th>1</th>\n",
       "      <td>DailyRate</td>\n",
       "      <td>0.061801</td>\n",
       "    </tr>\n",
       "    <tr>\n",
       "      <th>12</th>\n",
       "      <td>PercentSalaryHike</td>\n",
       "      <td>0.059494</td>\n",
       "    </tr>\n",
       "    <tr>\n",
       "      <th>6</th>\n",
       "      <td>HourlyRate</td>\n",
       "      <td>0.050756</td>\n",
       "    </tr>\n",
       "    <tr>\n",
       "      <th>4</th>\n",
       "      <td>EmployeeNumber</td>\n",
       "      <td>0.048055</td>\n",
       "    </tr>\n",
       "    <tr>\n",
       "      <th>42</th>\n",
       "      <td>OverTime_Yes</td>\n",
       "      <td>0.040839</td>\n",
       "    </tr>\n",
       "    <tr>\n",
       "      <th>15</th>\n",
       "      <td>StockOptionLevel</td>\n",
       "      <td>0.031102</td>\n",
       "    </tr>\n",
       "    <tr>\n",
       "      <th>8</th>\n",
       "      <td>JobLevel</td>\n",
       "      <td>0.029911</td>\n",
       "    </tr>\n",
       "    <tr>\n",
       "      <th>19</th>\n",
       "      <td>YearsAtCompany</td>\n",
       "      <td>0.029532</td>\n",
       "    </tr>\n",
       "    <tr>\n",
       "      <th>10</th>\n",
       "      <td>MonthlyIncome</td>\n",
       "      <td>0.027443</td>\n",
       "    </tr>\n",
       "    <tr>\n",
       "      <th>5</th>\n",
       "      <td>EnvironmentSatisfaction</td>\n",
       "      <td>0.026416</td>\n",
       "    </tr>\n",
       "    <tr>\n",
       "      <th>33</th>\n",
       "      <td>JobRole_Laboratory Technician</td>\n",
       "      <td>0.020970</td>\n",
       "    </tr>\n",
       "    <tr>\n",
       "      <th>11</th>\n",
       "      <td>NumCompaniesWorked</td>\n",
       "      <td>0.016798</td>\n",
       "    </tr>\n",
       "    <tr>\n",
       "      <th>29</th>\n",
       "      <td>EducationField_Medical</td>\n",
       "      <td>0.016214</td>\n",
       "    </tr>\n",
       "    <tr>\n",
       "      <th>39</th>\n",
       "      <td>JobRole_Sales Representative</td>\n",
       "      <td>0.014652</td>\n",
       "    </tr>\n",
       "    <tr>\n",
       "      <th>28</th>\n",
       "      <td>EducationField_Marketing</td>\n",
       "      <td>0.013893</td>\n",
       "    </tr>\n",
       "    <tr>\n",
       "      <th>41</th>\n",
       "      <td>MaritalStatus_Single</td>\n",
       "      <td>0.012560</td>\n",
       "    </tr>\n",
       "    <tr>\n",
       "      <th>23</th>\n",
       "      <td>BusinessTravel_Travel_Frequently</td>\n",
       "      <td>0.009579</td>\n",
       "    </tr>\n",
       "    <tr>\n",
       "      <th>3</th>\n",
       "      <td>Education</td>\n",
       "      <td>0.008321</td>\n",
       "    </tr>\n",
       "    <tr>\n",
       "      <th>30</th>\n",
       "      <td>EducationField_Other</td>\n",
       "      <td>0.006935</td>\n",
       "    </tr>\n",
       "    <tr>\n",
       "      <th>14</th>\n",
       "      <td>RelationshipSatisfaction</td>\n",
       "      <td>0.005132</td>\n",
       "    </tr>\n",
       "    <tr>\n",
       "      <th>18</th>\n",
       "      <td>WorkLifeBalance</td>\n",
       "      <td>0.004834</td>\n",
       "    </tr>\n",
       "    <tr>\n",
       "      <th>40</th>\n",
       "      <td>MaritalStatus_Married</td>\n",
       "      <td>0.004692</td>\n",
       "    </tr>\n",
       "    <tr>\n",
       "      <th>9</th>\n",
       "      <td>JobSatisfaction</td>\n",
       "      <td>0.004633</td>\n",
       "    </tr>\n",
       "    <tr>\n",
       "      <th>31</th>\n",
       "      <td>EducationField_Technical Degree</td>\n",
       "      <td>0.004375</td>\n",
       "    </tr>\n",
       "    <tr>\n",
       "      <th>24</th>\n",
       "      <td>BusinessTravel_Travel_Rarely</td>\n",
       "      <td>0.004318</td>\n",
       "    </tr>\n",
       "    <tr>\n",
       "      <th>7</th>\n",
       "      <td>JobInvolvement</td>\n",
       "      <td>0.003432</td>\n",
       "    </tr>\n",
       "    <tr>\n",
       "      <th>37</th>\n",
       "      <td>JobRole_Research Scientist</td>\n",
       "      <td>0.002087</td>\n",
       "    </tr>\n",
       "    <tr>\n",
       "      <th>17</th>\n",
       "      <td>TrainingTimesLastYear</td>\n",
       "      <td>0.002078</td>\n",
       "    </tr>\n",
       "    <tr>\n",
       "      <th>21</th>\n",
       "      <td>YearsSinceLastPromotion</td>\n",
       "      <td>0.001689</td>\n",
       "    </tr>\n",
       "    <tr>\n",
       "      <th>25</th>\n",
       "      <td>Department_Research &amp; Development</td>\n",
       "      <td>0.001006</td>\n",
       "    </tr>\n",
       "    <tr>\n",
       "      <th>38</th>\n",
       "      <td>JobRole_Sales Executive</td>\n",
       "      <td>0.000987</td>\n",
       "    </tr>\n",
       "    <tr>\n",
       "      <th>26</th>\n",
       "      <td>Department_Sales</td>\n",
       "      <td>0.000516</td>\n",
       "    </tr>\n",
       "    <tr>\n",
       "      <th>13</th>\n",
       "      <td>PerformanceRating</td>\n",
       "      <td>0.000393</td>\n",
       "    </tr>\n",
       "    <tr>\n",
       "      <th>35</th>\n",
       "      <td>JobRole_Manufacturing Director</td>\n",
       "      <td>0.000139</td>\n",
       "    </tr>\n",
       "    <tr>\n",
       "      <th>34</th>\n",
       "      <td>JobRole_Manager</td>\n",
       "      <td>0.000000</td>\n",
       "    </tr>\n",
       "    <tr>\n",
       "      <th>36</th>\n",
       "      <td>JobRole_Research Director</td>\n",
       "      <td>0.000000</td>\n",
       "    </tr>\n",
       "    <tr>\n",
       "      <th>32</th>\n",
       "      <td>JobRole_Human Resources</td>\n",
       "      <td>0.000000</td>\n",
       "    </tr>\n",
       "    <tr>\n",
       "      <th>27</th>\n",
       "      <td>EducationField_Life Sciences</td>\n",
       "      <td>0.000000</td>\n",
       "    </tr>\n",
       "  </tbody>\n",
       "</table>\n",
       "</div>"
      ],
      "text/plain": [
       "                                  col       imp\n",
       "22               YearsWithCurrManager  0.104917\n",
       "0                                 Age  0.090555\n",
       "16                  TotalWorkingYears  0.086467\n",
       "2                    DistanceFromHome  0.079195\n",
       "20                 YearsInCurrentRole  0.073285\n",
       "1                           DailyRate  0.061801\n",
       "12                  PercentSalaryHike  0.059494\n",
       "6                          HourlyRate  0.050756\n",
       "4                      EmployeeNumber  0.048055\n",
       "42                       OverTime_Yes  0.040839\n",
       "15                   StockOptionLevel  0.031102\n",
       "8                            JobLevel  0.029911\n",
       "19                     YearsAtCompany  0.029532\n",
       "10                      MonthlyIncome  0.027443\n",
       "5             EnvironmentSatisfaction  0.026416\n",
       "33      JobRole_Laboratory Technician  0.020970\n",
       "11                 NumCompaniesWorked  0.016798\n",
       "29             EducationField_Medical  0.016214\n",
       "39       JobRole_Sales Representative  0.014652\n",
       "28           EducationField_Marketing  0.013893\n",
       "41               MaritalStatus_Single  0.012560\n",
       "23   BusinessTravel_Travel_Frequently  0.009579\n",
       "3                           Education  0.008321\n",
       "30               EducationField_Other  0.006935\n",
       "14           RelationshipSatisfaction  0.005132\n",
       "18                    WorkLifeBalance  0.004834\n",
       "40              MaritalStatus_Married  0.004692\n",
       "9                     JobSatisfaction  0.004633\n",
       "31    EducationField_Technical Degree  0.004375\n",
       "24       BusinessTravel_Travel_Rarely  0.004318\n",
       "7                      JobInvolvement  0.003432\n",
       "37         JobRole_Research Scientist  0.002087\n",
       "17              TrainingTimesLastYear  0.002078\n",
       "21            YearsSinceLastPromotion  0.001689\n",
       "25  Department_Research & Development  0.001006\n",
       "38            JobRole_Sales Executive  0.000987\n",
       "26                   Department_Sales  0.000516\n",
       "13                  PerformanceRating  0.000393\n",
       "35     JobRole_Manufacturing Director  0.000139\n",
       "34                    JobRole_Manager  0.000000\n",
       "36          JobRole_Research Director  0.000000\n",
       "32            JobRole_Human Resources  0.000000\n",
       "27       EducationField_Life Sciences  0.000000"
      ]
     },
     "execution_count": 99,
     "metadata": {},
     "output_type": "execute_result"
    }
   ],
   "source": [
    "#各特徴量の影響をデータ化\n",
    "feature = gbrt.feature_importances_\n",
    "label = dm_train_x.columns\n",
    "imp = pd.DataFrame({'col':label, 'imp':feature})\n",
    "imp_maxdepth_unspecified = imp.sort_values('imp',ascending=False)\n",
    "imp_maxdepth_unspecified"
   ]
  },
  {
   "cell_type": "markdown",
   "id": "1b8ec48b-8a5c-486d-a6a4-b8f877341914",
   "metadata": {},
   "source": [
    "# GridSearch"
   ]
  },
  {
   "cell_type": "code",
   "execution_count": 100,
   "id": "9edaa710-e2b3-4771-b53c-8169ab822413",
   "metadata": {},
   "outputs": [
    {
     "name": "stdout",
     "output_type": "stream",
     "text": [
      "Best params: {'learning_rate': 0.1, 'max_depth': 3, 'n_estimators': 100}\n",
      "Best Score: 0.8635416666666667\n"
     ]
    }
   ],
   "source": [
    "parameters = {  \n",
    "    'n_estimators': [100,700],     # 用意する決定木モデルの数\n",
    "    'max_depth':    (1, 2, 3 ),     # 決定木のノード深さの制限値\n",
    "    'learning_rate':(0.01,0.1,1)\n",
    "}\n",
    "\n",
    "# モデルインスタンス\n",
    "model = GradientBoostingClassifier()\n",
    "\n",
    "# ハイパーパラメータチューニング(グリッドサーチのコンストラクタにモデルと辞書パラメータを指定)\n",
    "gridsearch = GridSearchCV(estimator = model,        # モデル\n",
    "                          param_grid = parameters,  # チューニングするハイパーパラメータ\n",
    "                          scoring = \"accuracy\"      # スコアリング\n",
    "                         )\n",
    "\n",
    "# cv : int, cross-validation generator or an iterable, optional\n",
    "# Cross validationの分割数(デフォルト値は3)\n",
    "\n",
    "# 演算実行\n",
    "gridsearch.fit(X_train, y_train)\n",
    "\n",
    "# グリッドサーチの結果から得られた最適なパラメータ候補を確認\n",
    "print('Best params: {}'.format(gridsearch.best_params_)) \n",
    "print('Best Score: {}'.format(gridsearch.best_score_))"
   ]
  },
  {
   "cell_type": "markdown",
   "id": "f9e3755c-b710-4f5e-ac63-bd84b86eb5c3",
   "metadata": {},
   "source": [
    "# K-fols交差分割検証"
   ]
  },
  {
   "cell_type": "code",
   "execution_count": 101,
   "id": "df3d8b8f-a5ed-4b4b-be7f-fb240f3dd3c8",
   "metadata": {},
   "outputs": [
    {
     "name": "stdout",
     "output_type": "stream",
     "text": [
      "0.8583333333333334\n"
     ]
    }
   ],
   "source": [
    "#GBDT/交差確認\n",
    "from sklearn.ensemble import GradientBoostingClassifier\n",
    "from sklearn.model_selection import cross_val_score\n",
    "\n",
    "# max_depth,n_estimators\n",
    "#gbdt = GradientBoostingClassifier(n_estimators=100, learning_rate=0.03, max_depth=3,random_state=0)\n",
    "gbdt = GradientBoostingClassifier(n_estimators = gridsearch.best_params_['n_estimators'], # 用意する決定木モデルの数\n",
    "                               max_depth     = gridsearch.best_params_['max_depth'],    # 決定木のノード深さの制限値\n",
    "                               learning_rate = gridsearch.best_params_['learning_rate'],\n",
    "                               random_state = 0,                                       # 乱数シード\n",
    "                              )\n",
    "\n",
    "\n",
    "scores = cross_val_score(gbdt, X_train, y_train, cv = 10)\n",
    "print(np.mean(scores))\n",
    "\n",
    "# OUTPUT:\n",
    "# 0.831"
   ]
  },
  {
   "cell_type": "markdown",
   "id": "c3ce878b-642b-40d6-b56e-fe2540ab47b4",
   "metadata": {},
   "source": [
    "# 最適なハイパーパラメータの組み合わせを用いてモデル再構築"
   ]
  },
  {
   "cell_type": "code",
   "execution_count": 102,
   "id": "31b7a698-86fc-45b3-a9ff-186ce8fd56a2",
   "metadata": {},
   "outputs": [
    {
     "name": "stdout",
     "output_type": "stream",
     "text": [
      "train_score= 0.9666666666666667\n",
      "test_score= 0.8416666666666667\n"
     ]
    }
   ],
   "source": [
    "# 最適なハイパーパラメータの組み合わせを用いてモデル再構築\n",
    "model = GradientBoostingClassifier(n_estimators = gridsearch.best_params_['n_estimators'], # 用意する決定木モデルの数\n",
    "                               max_depth     = gridsearch.best_params_['max_depth'],    # 決定木のノード深さの制限値\n",
    "                               learning_rate = gridsearch.best_params_['learning_rate'],\n",
    "                               random_state = 0,                                       # 乱数シード\n",
    "                              )\n",
    "\n",
    "# モデル学習\n",
    "model.fit(X_train,y_train)\n",
    "print(\"train_score=\", model.score(X_train, y_train))\n",
    "print(\"test_score=\", model.score(X_test, y_test))"
   ]
  },
  {
   "cell_type": "code",
   "execution_count": 103,
   "id": "b89da835-e08c-4c71-8fab-bf5635dbf908",
   "metadata": {},
   "outputs": [],
   "source": [
    "#実際のデータで予測\n",
    "pred = model.predict(dummy_test)\n",
    "sample[1] = pred"
   ]
  },
  {
   "cell_type": "code",
   "execution_count": 104,
   "id": "5639e8f2-7d9e-49eb-b63a-3b6131d150ff",
   "metadata": {},
   "outputs": [],
   "source": [
    "# dfをcsv出力　indexをTrueにしたら0からインデックスが降られる、headerはカラム名が一番上に追加される\n",
    "sample.to_csv(\"submit08_GradBoost.csv\", index = False, header=False)"
   ]
  },
  {
   "cell_type": "code",
   "execution_count": 105,
   "id": "ee64f22b-9edb-4c84-aa39-fe5e9c5ddea6",
   "metadata": {},
   "outputs": [
    {
     "data": {
      "text/html": [
       "<div>\n",
       "<style scoped>\n",
       "    .dataframe tbody tr th:only-of-type {\n",
       "        vertical-align: middle;\n",
       "    }\n",
       "\n",
       "    .dataframe tbody tr th {\n",
       "        vertical-align: top;\n",
       "    }\n",
       "\n",
       "    .dataframe thead th {\n",
       "        text-align: right;\n",
       "    }\n",
       "</style>\n",
       "<table border=\"1\" class=\"dataframe\">\n",
       "  <thead>\n",
       "    <tr style=\"text-align: right;\">\n",
       "      <th></th>\n",
       "      <th>0</th>\n",
       "      <th>1</th>\n",
       "    </tr>\n",
       "  </thead>\n",
       "  <tbody>\n",
       "    <tr>\n",
       "      <th>0</th>\n",
       "      <td>1</td>\n",
       "      <td>0</td>\n",
       "    </tr>\n",
       "    <tr>\n",
       "      <th>1</th>\n",
       "      <td>2</td>\n",
       "      <td>0</td>\n",
       "    </tr>\n",
       "    <tr>\n",
       "      <th>2</th>\n",
       "      <td>4</td>\n",
       "      <td>0</td>\n",
       "    </tr>\n",
       "    <tr>\n",
       "      <th>3</th>\n",
       "      <td>5</td>\n",
       "      <td>0</td>\n",
       "    </tr>\n",
       "    <tr>\n",
       "      <th>4</th>\n",
       "      <td>6</td>\n",
       "      <td>0</td>\n",
       "    </tr>\n",
       "    <tr>\n",
       "      <th>...</th>\n",
       "      <td>...</td>\n",
       "      <td>...</td>\n",
       "    </tr>\n",
       "    <tr>\n",
       "      <th>795</th>\n",
       "      <td>1991</td>\n",
       "      <td>0</td>\n",
       "    </tr>\n",
       "    <tr>\n",
       "      <th>796</th>\n",
       "      <td>1992</td>\n",
       "      <td>0</td>\n",
       "    </tr>\n",
       "    <tr>\n",
       "      <th>797</th>\n",
       "      <td>1993</td>\n",
       "      <td>0</td>\n",
       "    </tr>\n",
       "    <tr>\n",
       "      <th>798</th>\n",
       "      <td>1995</td>\n",
       "      <td>0</td>\n",
       "    </tr>\n",
       "    <tr>\n",
       "      <th>799</th>\n",
       "      <td>1999</td>\n",
       "      <td>0</td>\n",
       "    </tr>\n",
       "  </tbody>\n",
       "</table>\n",
       "<p>800 rows × 2 columns</p>\n",
       "</div>"
      ],
      "text/plain": [
       "        0  1\n",
       "0       1  0\n",
       "1       2  0\n",
       "2       4  0\n",
       "3       5  0\n",
       "4       6  0\n",
       "..    ... ..\n",
       "795  1991  0\n",
       "796  1992  0\n",
       "797  1993  0\n",
       "798  1995  0\n",
       "799  1999  0\n",
       "\n",
       "[800 rows x 2 columns]"
      ]
     },
     "execution_count": 105,
     "metadata": {},
     "output_type": "execute_result"
    }
   ],
   "source": [
    "sample"
   ]
  },
  {
   "cell_type": "code",
   "execution_count": 110,
   "id": "f705a93e-c425-4685-8f79-d1c175b3e660",
   "metadata": {},
   "outputs": [
    {
     "data": {
      "text/plain": [
       "[20, 30, 40, 50, 60, 70, 80, 90, 100]"
      ]
     },
     "execution_count": 110,
     "metadata": {},
     "output_type": "execute_result"
    }
   ],
   "source": [
    "list(range(20, 101, 10))"
   ]
  },
  {
   "cell_type": "code",
   "execution_count": 111,
   "id": "05a2b66e-f9d7-4099-a257-24939fe466bc",
   "metadata": {},
   "outputs": [
    {
     "data": {
      "text/plain": [
       "[0.05,\n",
       " 0.060000000000000005,\n",
       " 0.07,\n",
       " 0.08000000000000002,\n",
       " 0.09000000000000001,\n",
       " 0.1,\n",
       " 0.11000000000000001,\n",
       " 0.12000000000000001,\n",
       " 0.13,\n",
       " 0.14,\n",
       " 0.15000000000000002,\n",
       " 0.16000000000000003,\n",
       " 0.17000000000000004,\n",
       " 0.18000000000000005,\n",
       " 0.19,\n",
       " 0.2]"
      ]
     },
     "execution_count": 111,
     "metadata": {},
     "output_type": "execute_result"
    }
   ],
   "source": [
    "list(np.arange(0.05, 0.20, 0.01))"
   ]
  },
  {
   "cell_type": "code",
   "execution_count": null,
   "id": "dc5fa48f-7e91-440e-b24c-622b39015f4c",
   "metadata": {},
   "outputs": [],
   "source": []
  }
 ],
 "metadata": {
  "kernelspec": {
   "display_name": "Python 3 (ipykernel)",
   "language": "python",
   "name": "python3"
  },
  "language_info": {
   "codemirror_mode": {
    "name": "ipython",
    "version": 3
   },
   "file_extension": ".py",
   "mimetype": "text/x-python",
   "name": "python",
   "nbconvert_exporter": "python",
   "pygments_lexer": "ipython3",
   "version": "3.9.7"
  }
 },
 "nbformat": 4,
 "nbformat_minor": 5
}
