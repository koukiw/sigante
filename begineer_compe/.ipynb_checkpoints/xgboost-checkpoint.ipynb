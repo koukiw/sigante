{
 "cells": [
  {
   "cell_type": "code",
   "execution_count": 10,
   "id": "23c2f3b0-c30a-41ae-9aa8-aceee7dce5e9",
   "metadata": {},
   "outputs": [
    {
     "name": "stdin",
     "output_type": "stream",
     "text": [
      "Once deleted, variables cannot be recovered. Proceed (y/[n])?  y\n"
     ]
    }
   ],
   "source": [
    "%reset"
   ]
  },
  {
   "cell_type": "code",
   "execution_count": 11,
   "id": "1f017b6f-411d-4b28-bf11-f8afc0bc1eef",
   "metadata": {},
   "outputs": [],
   "source": [
    "import pandas as pd\n",
    "from sklearn.model_selection import GridSearchCV\n",
    "from sklearn.ensemble import GradientBoostingClassifier\n",
    "from sklearn.model_selection import cross_val_score\n",
    "# import matplotlib.pyplot as plt\n",
    "import numpy as np"
   ]
  },
  {
   "cell_type": "code",
   "execution_count": 12,
   "id": "b5f2e96d-d388-4178-a444-009c407ac051",
   "metadata": {},
   "outputs": [],
   "source": [
    "train = pd.read_csv(\"train.csv\")\n",
    "test = pd.read_csv(\"test.csv\")\n",
    "sample = pd.read_csv(\"sample_submit.csv\",header=None)\n",
    "\n",
    "train= train.drop(['id','Over18','Gender','StandardHours'], axis=1)\n",
    "test= test.drop(['id','Over18','Gender','StandardHours'], axis=1)\n",
    "#trainデータから説明変数と目的変数に分ける\n",
    "dummy_train = pd.get_dummies(train,drop_first=True)\n",
    "dummy_test = pd.get_dummies(test,drop_first=True)\n",
    "dm_train_y = dummy_train.Attrition\n",
    "dm_train_x = dummy_train.drop(\"Attrition\",axis=1)\n",
    "from sklearn.model_selection import train_test_split\n",
    "# 学習データとテストデータに分ける\n",
    "X_train, X_test, y_train, y_test = train_test_split(dm_train_x,dm_train_y,\n",
    "                                                    test_size=0.2,\n",
    "                                                    random_state=0,\n",
    "                                                    stratify=dm_train_y)"
   ]
  },
  {
   "cell_type": "code",
   "execution_count": 13,
   "id": "3e05c227-53a9-4290-9062-93aa01ba782e",
   "metadata": {},
   "outputs": [],
   "source": [
    "from xgboost import XGBClassifier\n",
    "model = XGBClassifier(n_estimators=500,learning_rate=0.1)"
   ]
  },
  {
   "cell_type": "code",
   "execution_count": 14,
   "id": "e8f2ef5b-af59-44aa-949e-4028e5136557",
   "metadata": {},
   "outputs": [
    {
     "name": "stdout",
     "output_type": "stream",
     "text": [
      "[18:33:50] WARNING: ../src/learner.cc:1115: Starting in XGBoost 1.3.0, the default evaluation metric used with the objective 'binary:logistic' was changed from 'error' to 'logloss'. Explicitly set eval_metric if you'd like to restore the old behavior.\n",
      "[0]\tvalidation_0-logloss:0.64851\n",
      "[1]\tvalidation_0-logloss:0.61484\n",
      "[2]\tvalidation_0-logloss:0.58326\n",
      "[3]\tvalidation_0-logloss:0.55510\n",
      "[4]\tvalidation_0-logloss:0.53410\n",
      "[5]\tvalidation_0-logloss:0.51456\n",
      "[6]\tvalidation_0-logloss:0.49856\n",
      "[7]\tvalidation_0-logloss:0.48446\n",
      "[8]\tvalidation_0-logloss:0.47230\n",
      "[9]\tvalidation_0-logloss:0.46075\n",
      "[10]\tvalidation_0-logloss:0.45122\n",
      "[11]\tvalidation_0-logloss:0.44150\n",
      "[12]\tvalidation_0-logloss:0.43859\n",
      "[13]\tvalidation_0-logloss:0.43477\n",
      "[14]\tvalidation_0-logloss:0.42959\n",
      "[15]\tvalidation_0-logloss:0.42661\n",
      "[16]\tvalidation_0-logloss:0.42429\n",
      "[17]\tvalidation_0-logloss:0.42241\n"
     ]
    },
    {
     "name": "stderr",
     "output_type": "stream",
     "text": [
      "/Users/kouki/opt/anaconda3/envs/signate/lib/python3.9/site-packages/xgboost/sklearn.py:1224: UserWarning: The use of label encoder in XGBClassifier is deprecated and will be removed in a future release. To remove this warning, do the following: 1) Pass option use_label_encoder=False when constructing XGBClassifier object; and 2) Encode your labels (y) as integers starting with 0, i.e. 0, 1, 2, ..., [num_class - 1].\n",
      "  warnings.warn(label_encoder_deprecation_msg, UserWarning)\n",
      "/Users/kouki/opt/anaconda3/envs/signate/lib/python3.9/site-packages/xgboost/data.py:250: FutureWarning: pandas.Int64Index is deprecated and will be removed from pandas in a future version. Use pandas.Index with the appropriate dtype instead.\n",
      "  elif isinstance(data.columns, (pd.Int64Index, pd.RangeIndex)):\n"
     ]
    },
    {
     "name": "stdout",
     "output_type": "stream",
     "text": [
      "[18]\tvalidation_0-logloss:0.42092\n",
      "[19]\tvalidation_0-logloss:0.41920\n",
      "[20]\tvalidation_0-logloss:0.41508\n",
      "[21]\tvalidation_0-logloss:0.41450\n",
      "[22]\tvalidation_0-logloss:0.41074\n",
      "[23]\tvalidation_0-logloss:0.41042\n",
      "[24]\tvalidation_0-logloss:0.41084\n",
      "[25]\tvalidation_0-logloss:0.41038\n",
      "[26]\tvalidation_0-logloss:0.41091\n",
      "[27]\tvalidation_0-logloss:0.41130\n",
      "[28]\tvalidation_0-logloss:0.41053\n",
      "[29]\tvalidation_0-logloss:0.41095\n",
      "[30]\tvalidation_0-logloss:0.41403\n",
      "[31]\tvalidation_0-logloss:0.41447\n",
      "[32]\tvalidation_0-logloss:0.41359\n",
      "[33]\tvalidation_0-logloss:0.41418\n",
      "[34]\tvalidation_0-logloss:0.41565\n",
      "[35]\tvalidation_0-logloss:0.41893\n",
      "train_score= 0.9645833333333333\n",
      "test_score= 0.825\n"
     ]
    }
   ],
   "source": [
    "# モデル学習\n",
    "eval_set = [(X_test, y_test)]\n",
    "model.fit(X_train, y_train, eval_set=eval_set, verbose=True,early_stopping_rounds=10)\n",
    "print(\"train_score=\", model.score(X_train, y_train))\n",
    "print(\"test_score=\", model.score(X_test, y_test))"
   ]
  },
  {
   "cell_type": "code",
   "execution_count": null,
   "id": "734c5dab-81b8-48cb-b59b-e541f3c9af9a",
   "metadata": {},
   "outputs": [],
   "source": []
  },
  {
   "cell_type": "code",
   "execution_count": 15,
   "id": "ec05f930-dc1b-454f-b424-8e8cbdd38baf",
   "metadata": {},
   "outputs": [],
   "source": [
    "#実際のデータで予測\n",
    "pred = model.predict(dummy_test)\n",
    "sample[1] = pred"
   ]
  },
  {
   "cell_type": "code",
   "execution_count": 16,
   "id": "cb752c92-79e7-4783-be35-7e1644253912",
   "metadata": {},
   "outputs": [],
   "source": [
    "# dfをcsv出力　indexをTrueにしたら0からインデックスが降られる、headerはカラム名が一番上に追加される\n",
    "sample.to_csv(\"submit10_xgBoost.csv\", index = False, header=False)"
   ]
  },
  {
   "cell_type": "code",
   "execution_count": null,
   "id": "94a5fff9-8aaf-47e3-a4ac-2de86325256a",
   "metadata": {},
   "outputs": [],
   "source": []
  }
 ],
 "metadata": {
  "kernelspec": {
   "display_name": "Python 3 (ipykernel)",
   "language": "python",
   "name": "python3"
  },
  "language_info": {
   "codemirror_mode": {
    "name": "ipython",
    "version": 3
   },
   "file_extension": ".py",
   "mimetype": "text/x-python",
   "name": "python",
   "nbconvert_exporter": "python",
   "pygments_lexer": "ipython3",
   "version": "3.9.7"
  }
 },
 "nbformat": 4,
 "nbformat_minor": 5
}
